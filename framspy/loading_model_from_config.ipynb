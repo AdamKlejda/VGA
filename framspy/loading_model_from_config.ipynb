{
 "cells": [
  {
   "cell_type": "code",
   "execution_count": 8,
   "id": "ebb69e30-8df6-40e2-9fbf-766a9ddc7fbb",
   "metadata": {},
   "outputs": [],
   "source": [
    "import os\n",
    "\n",
    "path_configs = \"configs\""
   ]
  },
  {
   "cell_type": "code",
   "execution_count": 14,
   "id": "257d7b8d-ac02-4132-8634-9e0c930a5180",
   "metadata": {},
   "outputs": [],
   "source": [
    "for path, subdirs, files in os.walk(path_configs):\n",
    "#     print()\n",
    "    filename=path+\"/\"+files[0]\n",
    "    with open(filename) as file:\n",
    "        lines = file.readlines()\n",
    "        lines = [line.rstrip() for line in lines]\n",
    "    "
   ]
  },
  {
   "cell_type": "code",
   "execution_count": 18,
   "id": "50eb3e46-bfb9-4d36-bfe2-4adbb4a0e577",
   "metadata": {},
   "outputs": [
    {
     "data": {
      "text/plain": [
       "18"
      ]
     },
     "execution_count": 18,
     "metadata": {},
     "output_type": "execute_result"
    }
   ],
   "source": [
    "\n",
    "len(lines)"
   ]
  },
  {
   "cell_type": "code",
   "execution_count": 16,
   "id": "49f5441d-c55a-497a-9a72-ae9f2f83ce73",
   "metadata": {},
   "outputs": [
    {
     "ename": "IndexError",
     "evalue": "list index out of range",
     "output_type": "error",
     "traceback": [
      "\u001b[0;31m---------------------------------------------------------------------------\u001b[0m",
      "\u001b[0;31mIndexError\u001b[0m                                Traceback (most recent call last)",
      "\u001b[0;32m<ipython-input-16-cbfe2c775623>\u001b[0m in \u001b[0;36m<module>\u001b[0;34m\u001b[0m\n\u001b[1;32m     17\u001b[0m \u001b[0mVARIATIONAL\u001b[0m\u001b[0;34m=\u001b[0m\u001b[0mlines\u001b[0m\u001b[0;34m[\u001b[0m\u001b[0;36m16\u001b[0m\u001b[0;34m]\u001b[0m\u001b[0;34m\u001b[0m\u001b[0;34m\u001b[0m\u001b[0m\n\u001b[1;32m     18\u001b[0m \u001b[0mLOSS\u001b[0m\u001b[0;34m=\u001b[0m\u001b[0mlines\u001b[0m\u001b[0;34m[\u001b[0m\u001b[0;36m17\u001b[0m\u001b[0;34m]\u001b[0m\u001b[0;34m\u001b[0m\u001b[0;34m\u001b[0m\u001b[0m\n\u001b[0;32m---> 19\u001b[0;31m \u001b[0mTRAINID\u001b[0m\u001b[0;34m=\u001b[0m\u001b[0mlines\u001b[0m\u001b[0;34m[\u001b[0m\u001b[0;36m18\u001b[0m\u001b[0;34m]\u001b[0m\u001b[0;34m\u001b[0m\u001b[0;34m\u001b[0m\u001b[0m\n\u001b[0m",
      "\u001b[0;31mIndexError\u001b[0m: list index out of range"
     ]
    }
   ],
   "source": [
    "PATH_FRAMS=lines[0]\n",
    "PATH_DATA=lines[1]\n",
    "PATH_OUT=lines[2]\n",
    "BATCH_SIZE=lines[3]\n",
    "ADJ_SIZE=lines[4]\n",
    "NUM_FEATURES=lines[5]\n",
    "LATENT_DIM=lines[6]\n",
    "NHIDDEN=lines[7]\n",
    "CONVENC=lines[8]\n",
    "DENSEENC=lines[9]\n",
    "DENSEDECA=lines[10]\n",
    "CONVDECX=lines[11]\n",
    "DENSEDECX=lines[12]\n",
    "LEARNING_RATE=lines[13]\n",
    "EPOCHS=lines[14]\n",
    "CONVTYPE=lines[15]\n",
    "VARIATIONAL=lines[16]\n",
    "LOSS=lines[17]\n",
    "TRAINID=lines[18]"
   ]
  },
  {
   "cell_type": "code",
   "execution_count": null,
   "id": "518d57a5-c68a-4c94-9cf6-60bc5ea871f5",
   "metadata": {},
   "outputs": [],
   "source": []
  }
 ],
 "metadata": {
  "kernelspec": {
   "display_name": "Python 3",
   "language": "python",
   "name": "python3"
  },
  "language_info": {
   "codemirror_mode": {
    "name": "ipython",
    "version": 3
   },
   "file_extension": ".py",
   "mimetype": "text/x-python",
   "name": "python",
   "nbconvert_exporter": "python",
   "pygments_lexer": "ipython3",
   "version": "3.8.5"
  }
 },
 "nbformat": 4,
 "nbformat_minor": 5
}
