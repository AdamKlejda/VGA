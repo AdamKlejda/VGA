{
 "cells": [
  {
   "cell_type": "code",
   "execution_count": 24,
   "id": "200e71dc-07bb-49a1-bbab-7e11ca089927",
   "metadata": {},
   "outputs": [],
   "source": [
    "from GAE.utils import load_config\n",
    "from GAE.LossManager import LossTypes\n",
    "from GAE.custom_layers import ConvTypes"
   ]
  },
  {
   "cell_type": "code",
   "execution_count": 25,
   "id": "2a21447d-9d92-4016-9c1f-c2aff2f7fda7",
   "metadata": {},
   "outputs": [],
   "source": [
    "configs = load_config(\"/home/adam/thesis/VGAE/configs/vFalse_gcsconv_15_64_1_2_1_1_2_dissim\")"
   ]
  },
  {
   "cell_type": "code",
   "execution_count": 26,
   "id": "c07194f9-55fd-4944-b865-b7e679215754",
   "metadata": {},
   "outputs": [],
   "source": [
    "if configs['variational'] == True:\n",
    "    ae_type=\"VGAE\"\n",
    "else:\n",
    "    ae_type=\"GAE\"\n",
    "PATH_OUT = (str(configs['pathout'])+\n",
    "            str(configs['loss'])+\n",
    "            \"/\"+ae_type +\n",
    "            \"/numfeatures\"+str(configs['numfeatures']) +\n",
    "            \"/adjsize\"+str(configs['adjsize']) + \n",
    "            \"/batchsize\"+str(configs['batchsize']) +\n",
    "            \"/latentdim\"+str(configs['latentdim'])+\n",
    "            \"/nhidden\"+str(configs['nhidden'])+\n",
    "            \"/learningrate\"+str(configs['learningrate'])+\n",
    "            \"/convtype\"+str(configs['convtype'])+\n",
    "            \"/\"\n",
    "            )\n",
    "MODEL_NAME = (\"model_enc_\"+str(configs['convenc'])+\"_\"+str(configs['denseenc'])+\n",
    "            \"_deca\"+str(configs['densedeca'])+\n",
    "            \"_decx\"+str(configs['convdecx'])+\"_\"+str(configs['densedecx'])+\n",
    "            \"_train_id_\"+str(1)\n",
    "            )"
   ]
  },
  {
   "cell_type": "code",
   "execution_count": 27,
   "id": "10fa60b9-0c60-484c-92a0-b39d181b2148",
   "metadata": {},
   "outputs": [
    {
     "data": {
      "text/plain": [
       "'models/dissim/GAE/numfeatures4/adjsize15/batchsize256/latentdim15/nhidden64/learningrate0.01/convtypeGCSConv/model_enc_1_2_deca1_decx1_2_train_id_1'"
      ]
     },
     "execution_count": 27,
     "metadata": {},
     "output_type": "execute_result"
    }
   ],
   "source": [
    "path = PATH_OUT+MODEL_NAME\n",
    "path"
   ]
  },
  {
   "cell_type": "code",
   "execution_count": 28,
   "id": "30c7a19b-309c-4616-aac7-ce6e2e80262a",
   "metadata": {},
   "outputs": [
    {
     "name": "stdout",
     "output_type": "stream",
     "text": [
      "args.txt\n"
     ]
    }
   ],
   "source": [
    "ls $path"
   ]
  },
  {
   "cell_type": "code",
   "execution_count": 23,
   "id": "61d9b788-7124-455a-890a-f1c71e8e05b7",
   "metadata": {},
   "outputs": [
    {
     "name": "stdout",
     "output_type": "stream",
     "text": [
      "\u001b[0m\u001b[01;34mconvtypeGCSConv\u001b[0m/\n"
     ]
    }
   ],
   "source": []
  },
  {
   "cell_type": "code",
   "execution_count": 1,
   "id": "1cbef14a-5d72-45c8-932a-d1a10b84d44a",
   "metadata": {},
   "outputs": [],
   "source": [
    "import numpy as np\n"
   ]
  },
  {
   "cell_type": "code",
   "execution_count": 2,
   "id": "e01e4b90-9e5f-4fdb-aee4-fbe228ec5139",
   "metadata": {},
   "outputs": [],
   "source": [
    "losses = []\n"
   ]
  },
  {
   "cell_type": "code",
   "execution_count": 4,
   "id": "9255f17a-da0c-44f9-a219-9844ee1d8d4b",
   "metadata": {},
   "outputs": [],
   "source": [
    "loss = [1,2,3,4]\n"
   ]
  },
  {
   "cell_type": "code",
   "execution_count": 11,
   "id": "7f469f20-7954-465a-8b35-f03d097df814",
   "metadata": {},
   "outputs": [],
   "source": [
    "losses.append(loss)"
   ]
  },
  {
   "cell_type": "code",
   "execution_count": 12,
   "id": "c0d2bb03-c49b-462e-b6f3-697b328ae989",
   "metadata": {},
   "outputs": [
    {
     "data": {
      "text/plain": [
       "[[1, 2, 3, 4],\n",
       " [1, 2, 3, 4],\n",
       " [1, 2, 3, 4],\n",
       " [1, 2, 3, 4],\n",
       " [1, 2, 3, 4],\n",
       " [1, 2, 3, 4],\n",
       " [1, 2, 3, 4]]"
      ]
     },
     "execution_count": 12,
     "metadata": {},
     "output_type": "execute_result"
    }
   ],
   "source": [
    "losses"
   ]
  },
  {
   "cell_type": "code",
   "execution_count": 14,
   "id": "c52959c9-e220-4aff-8990-8ca6607aa212",
   "metadata": {},
   "outputs": [
    {
     "data": {
      "text/plain": [
       "array([1., 2., 3., 4.])"
      ]
     },
     "execution_count": 14,
     "metadata": {},
     "output_type": "execute_result"
    }
   ],
   "source": [
    "np.mean(losses,axis=0)"
   ]
  },
  {
   "cell_type": "code",
   "execution_count": null,
   "id": "5d7889c8-c787-484a-a69e-7ea096ef5ab6",
   "metadata": {},
   "outputs": [],
   "source": []
  }
 ],
 "metadata": {
  "kernelspec": {
   "display_name": "Python 3",
   "language": "python",
   "name": "python3"
  },
  "language_info": {
   "codemirror_mode": {
    "name": "ipython",
    "version": 3
   },
   "file_extension": ".py",
   "mimetype": "text/x-python",
   "name": "python",
   "nbconvert_exporter": "python",
   "pygments_lexer": "ipython3",
   "version": "3.7.10"
  }
 },
 "nbformat": 4,
 "nbformat_minor": 5
}
