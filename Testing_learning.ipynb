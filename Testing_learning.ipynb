{
 "cells": [
  {
   "cell_type": "code",
   "execution_count": 7,
   "metadata": {},
   "outputs": [],
   "source": [
    "from tensorflow.keras.models import Model\n",
    "from tensorflow.keras.layers import Dense, Dropout\n",
    "import tensorflow.keras.layers as layers\n",
    "from spektral.layers import GCNConv, GlobalSumPool\n",
    "import spektral.data as data\n",
    "from spektral.data import Dataset\n",
    "import tensorflow as tf\n",
    "import numpy as np \n",
    "from tensorflow import keras\n",
    "from tensorflow.keras import layers\n",
    "from framasToGraph import FramsTransformer\n",
    "from framsfiles import reader as framsreader\n",
    "import spektral\n",
    "import os\n",
    "import fnmatch\n",
    "from GraphDataset import GraphDataset\n",
    "from autoencoder import Autoencoder, loss_f\n",
    "import matplotlib.pyplot as plt\n",
    "\n",
    "PATH_FRAMS='/home/adam/Framsticks/Framsticks50rc19'\n",
    "PATH_DATA =\"graphs/gen/\"\n"
   ]
  },
  {
   "cell_type": "code",
   "execution_count": 2,
   "metadata": {
    "tags": []
   },
   "outputs": [
    {
     "name": "stdout",
     "output_type": "stream",
     "text": [
      "Using Framsticks version: 5.0rc19.1\n",
      "Home (writable) dir     : /home/adam/Framsticks/Framsticks50rc19/data\n",
      "Resources dir           : /home/adam/Framsticks/Framsticks50rc19/data\n",
      "\n"
     ]
    },
    {
     "data": {
      "text/plain": [
       "GraphDataset(n_graphs=32000)"
      ]
     },
     "execution_count": 2,
     "metadata": {},
     "output_type": "execute_result"
    }
   ],
   "source": [
    "ADJ_SIZE = 15\n",
    "NUM_FEATURES = 3\n",
    "myData = GraphDataset(PATH_FRAMS, PATH_DATA,size_of_adj=ADJ_SIZE)\n",
    "# dataset.apply(normalize_one())\n",
    "loader = data.BatchLoader(myData, batch_size=32)\n",
    "myData"
   ]
  },
  {
   "cell_type": "code",
   "execution_count": 4,
   "metadata": {},
   "outputs": [],
   "source": [
    "latent_dim = 32\n",
    "n_hidden = 256\n",
    "n_samples = 32\n",
    "autoencoder = Autoencoder(latent_dim,n_hidden,n_samples,adjency_size=ADJ_SIZE,num_features=NUM_FEATURES)\n",
    "optimizer = keras.optimizers.Adam(lr=0.001)\n",
    "autoencoder.compile(optimizer, loss_f)\n",
    "loss_all = []"
   ]
  },
  {
   "cell_type": "code",
   "execution_count": 5,
   "metadata": {
    "tags": []
   },
   "outputs": [
    {
     "name": "stderr",
     "output_type": "stream",
     "text": [
      "/home/adam/.local/lib/python3.7/site-packages/spektral/data/utils.py:198: UserWarning: `x` isn't a recognized object; `shuffle` is not guaranteed to behave correctly. E.g., non-numpy array/tensor objects with view semantics may contain duplicates after shuffling.\n",
      "  shuffle_inplace(*data)\n"
     ]
    },
    {
     "name": "stdout",
     "output_type": "stream",
     "text": [
      "WARNING:tensorflow:Layer autoencoder is casting an input tensor from dtype float64 to the layer's dtype of float32, which is new behavior in TensorFlow 2.  The layer has dtype float32 because it's dtype defaults to floatx.\n",
      "\n",
      "If you intended to run this layer in float32, you can safely ignore this warning. If in doubt, this warning is likely only an issue if you are porting a TensorFlow 1.X model to TensorFlow 2.\n",
      "\n",
      "To change all layers to have dtype float64 by default, call `tf.keras.backend.set_floatx('float64')`. To change just this layer, pass dtype='float64' to the layer constructor. If you are the author of this layer, you can disable autocasting by passing autocast=False to the base Layer constructor.\n",
      "\n"
     ]
    }
   ],
   "source": [
    "epochs = 1000\n",
    "for _ in range(epochs):\n",
    "    x,a = next(loader)\n",
    "    loss = autoencoder.train_step([tf.convert_to_tensor(x),tf.convert_to_tensor(a)])\n",
    "    loss_all.append(keras.backend.get_value(loss))"
   ]
  },
  {
   "cell_type": "code",
   "execution_count": 8,
   "metadata": {},
   "outputs": [
    {
     "data": {
      "image/png": "[encoded data removed]",
      "text/plain": [
       "<Figure size 432x288 with 1 Axes>"
      ]
     },
     "metadata": {
      "needs_background": "light"
     },
     "output_type": "display_data"
    }
   ],
   "source": [
    "fig, ax = plt.subplots()\n",
    "\n",
    "x = np.array(loss_all)\n",
    "ax.plot(x)\n",
    "\n",
    "ax.set(xlabel='epoch', ylabel='loss')\n",
    "\n",
    "plt.show()"
   ]
  },
  {
   "cell_type": "code",
   "execution_count": null,
   "metadata": {
    "tags": []
   },
   "outputs": [],
   "source": [
    "x,a = next(loader)\n",
    "np.set_printoptions(precision=4,suppress=True)\n",
    "l = autoencoder.train_step([tf.convert_to_tensor(x),tf.convert_to_tensor(a)],True)"
   ]
  },
  {
   "cell_type": "code",
   "execution_count": null,
   "metadata": {},
   "outputs": [],
   "source": []
  }
 ],
 "metadata": {
  "kernelspec": {
   "display_name": "Python 3",
   "language": "python",
   "name": "python3"
  },
  "language_info": {
   "codemirror_mode": {
    "name": "ipython",
    "version": 3
   },
   "file_extension": ".py",
   "mimetype": "text/x-python",
   "name": "python",
   "nbconvert_exporter": "python",
   "pygments_lexer": "ipython3",
   "version": "3.7.10"
  }
 },
 "nbformat": 4,
 "nbformat_minor": 4
}
