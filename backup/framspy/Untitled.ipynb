{
 "cells": [
  {
   "cell_type": "code",
   "execution_count": 8,
   "id": "00a878b4-67a6-4f1e-9153-3ff8dca83e2a",
   "metadata": {},
   "outputs": [
    {
     "name": "stdout",
     "output_type": "stream",
     "text": [
      "Using Framsticks version: 5.0rc19.1\n",
      "Home (writable) dir     : /home/adam/Framsticks/Framsticks50rc19/data\n",
      "Resources dir           : /home/adam/Framsticks/Framsticks50rc19/data\n",
      "\n"
     ]
    }
   ],
   "source": [
    "import numpy as np\n",
    "from GAE.framasToGraph import FramsTransformer\n",
    "pathframs = \"/home/adam/Framsticks/Framsticks50rc19\"\n",
    "\n",
    "adjsize=15\n",
    "frams_transf = FramsTransformer(pathframs,adjsize)\n",
    "best_gen = '//0\\np:2.298312727204787, 2.298312727204787, 2.298312727204787\\np:1.0942442864477269, 3.8224330349472115, 2.298312727204787\\np:0.7028104614021384, 4.270621270802676, 4.175778174543551\\np:1.565672987248388, 3.759406037940308, 5.8569109926396425\\np:1.4783265317666054, 4.289475890299355, 7.75219449408074\\np:0.7772495399273303, 4.088782239960528, 9.58258642105356\\np:4.29525112746713, 2.403939894437829, 2.298312727204787\\np:1.391318972254275, 0.5160999449083605, 2.298312727204787\\np:1.1953890754817635, 0.0, 4.190603268140904\\np:1.3044577547232905, 0.0002276606071149878, 6.157922176447118\\np:1.614924086010032, 0.32638985797429987, 8.017652350167477\\np:1.7004047886718914, 0.7839183371053251, 9.930519748252479\\nj:0, 1\\nj:0, 6\\nj:0, 7\\nj:1, 2\\nj:2, 3\\nj:3, 4\\nj:4, 5\\nj:7, 8\\nj:8, 9\\nj:9, 10\\nj:10, 11\\n'\n",
    "best_gen = frams_transf.getGrafFromString(best_gen)"
   ]
  },
  {
   "cell_type": "code",
   "execution_count": 10,
   "id": "0a03f24f-77a1-4c5e-8ee8-047ec7cb3e50",
   "metadata": {},
   "outputs": [
    {
     "data": {
      "text/plain": [
       "array([[ 2.29831273e+00,  2.29831273e+00,  2.29831273e+00],\n",
       "       [ 1.09424429e+00,  3.82243303e+00,  2.29831273e+00],\n",
       "       [ 7.02810461e-01,  4.27062127e+00,  4.17577817e+00],\n",
       "       [ 1.56567299e+00,  3.75940604e+00,  5.85691099e+00],\n",
       "       [ 1.47832653e+00,  4.28947589e+00,  7.75219449e+00],\n",
       "       [ 7.77249540e-01,  4.08878224e+00,  9.58258642e+00],\n",
       "       [ 4.29525113e+00,  2.40393989e+00,  2.29831273e+00],\n",
       "       [ 1.39131897e+00,  5.16099945e-01,  2.29831273e+00],\n",
       "       [ 1.19538908e+00,  0.00000000e+00,  4.19060327e+00],\n",
       "       [ 1.30445775e+00,  2.27660607e-04,  6.15792218e+00],\n",
       "       [ 1.61492409e+00,  3.26389858e-01,  8.01765235e+00],\n",
       "       [ 1.70040479e+00,  7.83918337e-01,  9.93051975e+00],\n",
       "       [-1.00000000e+00, -1.00000000e+00, -1.00000000e+00],\n",
       "       [-1.00000000e+00, -1.00000000e+00, -1.00000000e+00],\n",
       "       [-1.00000000e+00, -1.00000000e+00, -1.00000000e+00]])"
      ]
     },
     "execution_count": 10,
     "metadata": {},
     "output_type": "execute_result"
    }
   ],
   "source": [
    "best_gen.x"
   ]
  },
  {
   "cell_type": "code",
   "execution_count": 37,
   "id": "80d377df-44fc-4dc7-af2a-a00d5fd03987",
   "metadata": {},
   "outputs": [],
   "source": [
    "z = np.random.uniform(-1,1,size = (1,5))[0]\n",
    "shift = np.random.uniform(-1,1,size = (1,5))[0]"
   ]
  },
  {
   "cell_type": "code",
   "execution_count": 15,
   "id": "cc5bbafb-b6c1-4113-bba7-d53a4c98f3c4",
   "metadata": {},
   "outputs": [
    {
     "data": {
      "text/plain": [
       "array([[-0.82889165, -0.26145572,  0.38897131, -0.25549173,  0.70672827]])"
      ]
     },
     "execution_count": 15,
     "metadata": {},
     "output_type": "execute_result"
    }
   ],
   "source": [
    "z"
   ]
  },
  {
   "cell_type": "code",
   "execution_count": 16,
   "id": "75296485-a957-4897-87e7-6a61f9b5613a",
   "metadata": {},
   "outputs": [
    {
     "data": {
      "text/plain": [
       "array([[ 0.82889165,  0.26145572, -0.38897131,  0.25549173, -0.70672827]])"
      ]
     },
     "execution_count": 16,
     "metadata": {},
     "output_type": "execute_result"
    }
   ],
   "source": [
    "-z"
   ]
  },
  {
   "cell_type": "code",
   "execution_count": 14,
   "id": "18a124f7-5dd3-4a59-8ef1-9e8cccb7da7f",
   "metadata": {},
   "outputs": [
    {
     "data": {
      "text/plain": [
       "array([[ 0.47656895,  0.83720301, -0.05211388, -0.89686033,  0.03852479]])"
      ]
     },
     "execution_count": 14,
     "metadata": {},
     "output_type": "execute_result"
    }
   ],
   "source": [
    "shift"
   ]
  },
  {
   "cell_type": "code",
   "execution_count": 17,
   "id": "e64ef33e-96b1-4335-a5f2-53e055334753",
   "metadata": {},
   "outputs": [
    {
     "data": {
      "text/plain": [
       "array([[-0.47656895, -0.83720301,  0.05211388,  0.89686033, -0.03852479]])"
      ]
     },
     "execution_count": 17,
     "metadata": {},
     "output_type": "execute_result"
    }
   ],
   "source": [
    "-shift"
   ]
  },
  {
   "cell_type": "code",
   "execution_count": 54,
   "id": "07139b0b-cac5-46f4-b26d-f99421ca8a37",
   "metadata": {},
   "outputs": [
    {
     "data": {
      "text/plain": [
       "array([ 0.3, -0. ,  0.3, -1. ,  0. ])"
      ]
     },
     "execution_count": 54,
     "metadata": {},
     "output_type": "execute_result"
    }
   ],
   "source": [
    "z"
   ]
  },
  {
   "cell_type": "code",
   "execution_count": 55,
   "id": "97aa2d8a-a047-4548-a8ff-af5a53a67a99",
   "metadata": {},
   "outputs": [
    {
     "data": {
      "text/plain": [
       "array([-0.3,  0. , -0.3,  1. , -0. ])"
      ]
     },
     "execution_count": 55,
     "metadata": {},
     "output_type": "execute_result"
    }
   ],
   "source": [
    "-z"
   ]
  },
  {
   "cell_type": "code",
   "execution_count": 56,
   "id": "ff0c5c99-0bda-4d8a-94bb-669a5e09af29",
   "metadata": {},
   "outputs": [
    {
     "data": {
      "text/plain": [
       "array([-0.8, -0. ,  0.2,  0.2, -0.5])"
      ]
     },
     "execution_count": 56,
     "metadata": {},
     "output_type": "execute_result"
    }
   ],
   "source": [
    "shift"
   ]
  },
  {
   "cell_type": "code",
   "execution_count": 57,
   "id": "245dae07-5f64-4923-a7c1-3a6d670fba8e",
   "metadata": {},
   "outputs": [
    {
     "data": {
      "text/plain": [
       "array([ 0.8,  0. , -0.2, -0.2,  0.5])"
      ]
     },
     "execution_count": 57,
     "metadata": {},
     "output_type": "execute_result"
    }
   ],
   "source": [
    "-shift"
   ]
  },
  {
   "cell_type": "code",
   "execution_count": 62,
   "id": "774e927f-f778-4013-9659-657b2c55b1e9",
   "metadata": {},
   "outputs": [],
   "source": [
    "steps=21\n",
    "finall = np.zeros(shape=(steps,steps,len(z)))\n",
    "\n",
    "zs =  np.linspace(z,shift,steps)\n",
    "nzns =  np.linspace(-z,-shift,steps)\n",
    "for i in range(len(zs)):\n",
    "    finall[i] = np.linspace(zs[i],nzns[-i],steps)"
   ]
  },
  {
   "cell_type": "code",
   "execution_count": 63,
   "id": "f269b894-7376-4328-8022-3ddc50060f05",
   "metadata": {},
   "outputs": [
    {
     "name": "stdout",
     "output_type": "stream",
     "text": [
      "[[ 0.3 -0.   0.3 -1.   0. ]\n",
      " [ 0.2 -0.   0.3 -0.9  0. ]\n",
      " [ 0.2 -0.   0.2 -0.8  0. ]\n",
      " [ 0.2 -0.   0.2 -0.7  0. ]\n",
      " [ 0.2 -0.   0.2 -0.6  0. ]\n",
      " [ 0.1 -0.   0.1 -0.5  0. ]\n",
      " [ 0.1 -0.   0.1 -0.4  0. ]\n",
      " [ 0.1 -0.   0.1 -0.3  0. ]\n",
      " [ 0.1 -0.   0.1 -0.2  0. ]\n",
      " [ 0.  -0.   0.  -0.1  0. ]\n",
      " [ 0.   0.   0.   0.   0. ]\n",
      " [-0.   0.  -0.   0.1 -0. ]\n",
      " [-0.1  0.  -0.1  0.2 -0. ]\n",
      " [-0.1  0.  -0.1  0.3 -0. ]\n",
      " [-0.1  0.  -0.1  0.4 -0. ]\n",
      " [-0.1  0.  -0.1  0.5 -0. ]\n",
      " [-0.2  0.  -0.2  0.6 -0. ]\n",
      " [-0.2  0.  -0.2  0.7 -0. ]\n",
      " [-0.2  0.  -0.2  0.8 -0. ]\n",
      " [-0.2  0.  -0.3  0.9 -0. ]\n",
      " [-0.3  0.  -0.3  1.  -0. ]]\n"
     ]
    }
   ],
   "source": [
    "np.set_printoptions(precision=1)\n",
    "print(finall[0])"
   ]
  },
  {
   "cell_type": "code",
   "execution_count": 45,
   "id": "83fca011-d5c6-4407-bb60-e5f861d16b0a",
   "metadata": {},
   "outputs": [
    {
     "data": {
      "text/plain": [
       "array([[ 2.62e-01, -1.02e-02,  2.90e-01, -9.79e-01,  4.07e-02],\n",
       "       [ 2.35e-01, -9.08e-03,  2.60e-01, -8.76e-01,  3.64e-02],\n",
       "       [ 2.07e-01, -8.01e-03,  2.29e-01, -7.73e-01,  3.21e-02],\n",
       "       [ 1.79e-01, -6.95e-03,  1.99e-01, -6.70e-01,  2.78e-02],\n",
       "       [ 1.52e-01, -5.88e-03,  1.68e-01, -5.67e-01,  2.36e-02],\n",
       "       [ 1.24e-01, -4.81e-03,  1.38e-01, -4.64e-01,  1.93e-02],\n",
       "       [ 9.66e-02, -3.74e-03,  1.07e-01, -3.61e-01,  1.50e-02],\n",
       "       [ 6.90e-02, -2.67e-03,  7.64e-02, -2.58e-01,  1.07e-02],\n",
       "       [ 4.14e-02, -1.60e-03,  4.59e-02, -1.55e-01,  6.43e-03],\n",
       "       [ 1.38e-02, -5.34e-04,  1.53e-02, -5.15e-02,  2.14e-03],\n",
       "       [-1.38e-02,  5.34e-04, -1.53e-02,  5.15e-02, -2.14e-03],\n",
       "       [-4.14e-02,  1.60e-03, -4.59e-02,  1.55e-01, -6.43e-03],\n",
       "       [-6.90e-02,  2.67e-03, -7.64e-02,  2.58e-01, -1.07e-02],\n",
       "       [-9.66e-02,  3.74e-03, -1.07e-01,  3.61e-01, -1.50e-02],\n",
       "       [-1.24e-01,  4.81e-03, -1.38e-01,  4.64e-01, -1.93e-02],\n",
       "       [-1.52e-01,  5.88e-03, -1.68e-01,  5.67e-01, -2.36e-02],\n",
       "       [-1.79e-01,  6.95e-03, -1.99e-01,  6.70e-01, -2.78e-02],\n",
       "       [-2.07e-01,  8.01e-03, -2.29e-01,  7.73e-01, -3.21e-02],\n",
       "       [-2.35e-01,  9.08e-03, -2.60e-01,  8.76e-01, -3.64e-02],\n",
       "       [-2.62e-01,  1.02e-02, -2.90e-01,  9.79e-01, -4.07e-02]])"
      ]
     },
     "execution_count": 45,
     "metadata": {},
     "output_type": "execute_result"
    }
   ],
   "source": [
    " new = np.linspace(z,-z,steps)"
   ]
  },
  {
   "cell_type": "code",
   "execution_count": null,
   "id": "0019db36-2f23-4c0f-9688-d9d610771920",
   "metadata": {},
   "outputs": [],
   "source": []
  }
 ],
 "metadata": {
  "kernelspec": {
   "display_name": "Python 3",
   "language": "python",
   "name": "python3"
  },
  "language_info": {
   "codemirror_mode": {
    "name": "ipython",
    "version": 3
   },
   "file_extension": ".py",
   "mimetype": "text/x-python",
   "name": "python",
   "nbconvert_exporter": "python",
   "pygments_lexer": "ipython3",
   "version": "3.7.10"
  }
 },
 "nbformat": 4,
 "nbformat_minor": 5
}
