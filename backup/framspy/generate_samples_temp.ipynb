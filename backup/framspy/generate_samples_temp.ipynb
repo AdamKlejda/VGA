{
 "cells": [
  {
   "cell_type": "code",
   "execution_count": 1,
   "id": "d133cfc2-659b-48c0-8b8b-8327a3cdfd23",
   "metadata": {},
   "outputs": [],
   "source": [
    "import os\n",
    "import pandas as pd\n",
    "import numpy as np\n",
    "from GAE.custom_layers import ConvTypes\n",
    "from GAE.LossManager import LossTypes, LossManager\n",
    "import scikit_posthocs as sp\n",
    "import numpy as np\n",
    "import seaborn as sns\n",
    "import matplotlib.pyplot as plt\n",
    "from GAE.utils import *\n",
    "import operator\n",
    "import pickle \n",
    "from matplotlib.lines import Line2D\n",
    "\n",
    "from FramsticksLib import *\n",
    "import subprocess"
   ]
  },
  {
   "cell_type": "code",
   "execution_count": 7,
   "id": "ff79d97a-3f0a-4a13-b28a-6735d93994f9",
   "metadata": {},
   "outputs": [],
   "source": [
    "## multi_layers for gcs\n",
    "# path_models = \"/home/adam/thesis/VGAE/experiments/experiment_multi_layers/models/\"\n",
    "# path_configs = \"/home/adam/thesis/VGAE/experiments/experiment_multi_layers/models/No/configs/\"\n",
    "# model_names = \"gcs_diff_layers\"\n",
    "\n",
    "## base_all \n",
    "# path_models = \"/home/adam/thesis/VGAE/experiments/experiment_base/models/\"\n",
    "# path_configs = \"/home/adam/thesis/VGAE/experiments/experiment_base/models/No/configs/\"\n",
    "# model_names = \"base_all_convtypes\"\n",
    "\n",
    "## joints\n",
    "# path_models = \"/home/adam/thesis/VGAE/experiments/experiment_base/models/\"\n",
    "# path_configs = \"/home/adam/thesis/VGAE/experiments/experiment_base/models/joints/configs/\"\n",
    "# model_names = \"base_joints\"\n",
    "\n",
    "\n",
    "#### LOCALITY LOSS:\n",
    "#all\n",
    "# path_models = \"/home/adam/thesis/VGAE/experiments/experiment_base/models/\"\n",
    "# path_configs = \"/home/adam/thesis/VGAE/experiments/experiment_base/configs_all/\"\n",
    "# model_names = \"locality_all_convtypes\"\n",
    "\n",
    "\n",
    "#parts\n",
    "# path_models = \"/home/adam/thesis/VGAE/experiments/experiment_base/models/\"\n",
    "# path_configs = \"/home/adam/thesis/VGAE/experiments/experiment_base/models/joints/configs/\"\n",
    "# model_names = \"locality_joints_convtypes\"\n",
    "\n",
    "#fitness\n",
    "# path_models = \"/home/adam/thesis/VGAE/experiments/experiment_base/models/\"\n",
    "# path_configs = \"/home/adam/thesis/VGAE/experiments/experiment_base/models/fitness/configs/\"\n",
    "# model_names = \"locality_fitness_convtypes\"\n",
    "\n",
    "#dissim \n",
    "# path_models = \"/home/adam/thesis/VGAE/experiments/experiment_base/models/\"\n",
    "# path_configs = \"/home/adam/thesis/VGAE/experiments/experiment_base/models/dissim/configs/\"\n",
    "# model_names = \"locality_dissim_convtypes\"\n",
    "\n",
    "\n",
    "##VERTPOS\n",
    "path_models = \"/home/adam/thesis/VGAE/experiments/experiment_vertpos/models_vertpos/\"\n",
    "path_configs = \"/home/adam/thesis/VGAE/experiments/experiment_vertpos/models_vertpos/configs/\"\n",
    "model_names = \"vertpos_all\"\n"
   ]
  },
  {
   "cell_type": "code",
   "execution_count": 8,
   "id": "479e7edf-782a-4def-9251-b9291b5ee114",
   "metadata": {},
   "outputs": [
    {
     "name": "stdout",
     "output_type": "stream",
     "text": [
      "Using Framsticks version: 5.0rc19.1\n",
      "Home (writable) dir     : /home/adam/Framsticks/Framsticks50rc19/data\n",
      "Resources dir           : /home/adam/Framsticks/Framsticks50rc19/data\n",
      "\n",
      "Using Framsticks version: 5.0rc19.1\n",
      "Home (writable) dir     : /home/adam/Framsticks/Framsticks50rc19/data\n",
      "Resources dir           : /home/adam/Framsticks/Framsticks50rc19/data\n",
      "\n",
      "Available objects: ['CheckpointEvent', 'Collision', 'CrCollision', 'Creature', 'CreatureSettings', 'CreatureSignals', 'CreatureSnapshot', 'Dictionary', 'ExpProperties', 'ExpState', 'ExtValue', 'File', 'FunctionReference', 'GenMan', 'GenManStats', 'GenePool', 'GenePools', 'Geno', 'Genotype', 'Interface', 'Joint', 'Loader', 'Math', 'MechJoint', 'MechPart', 'MessageCatcher', 'Model', 'ModelGeometry', 'ModelSymmetry', 'Neuro', 'NeuroClass', 'NeuroClassLibrary', 'NeuroDef', 'NeuroSignals', 'NeuronsSimEnabled', 'ODE', 'Orient', 'Part', 'Population', 'Populations', 'Ref', 'Signal', 'SignalView', 'SimilMeasure', 'SimilMeasureDistribution', 'SimilMeasureGreedy', 'SimilMeasureHungarian', 'Simulator', 'SlaveSimulators', 'StopEvent', 'String', 'UserScripts', 'Vector', 'WireframeAppearance', 'World', 'WorldMap', 'WorldSignals', 'XYZ', '__builtins__', '__cached__', '__doc__', '__file__', '__loader__', '__name__', '__package__', '__spec__', 'c_api', 'ctypes', 'home_dir', 'init', 'os', 're', 'res_dir', 'sim_params', 'stats', 'sys']\n",
      "\n",
      "Performing a basic test 1/2... OK.\n",
      "Performing a basic test 2/2... OK.\n",
      "Using settings: ['/home/adam/thesis/VGAE/framspy/eval-allcriteria_new.sim']\n"
     ]
    }
   ],
   "source": [
    "pathframs = \"/home/adam/Framsticks/Framsticks50rc19\"\n",
    "framsmanager = FramsManager(pathframs)\n",
    "\n",
    "framsLib = FramsticksLib(pathframs,None,[\"/home/adam/thesis/VGAE/framspy/eval-allcriteria_new.sim\"])\n"
   ]
  },
  {
   "cell_type": "code",
   "execution_count": 9,
   "id": "d6bb23a8-ec56-4b68-b8c5-57bb833b819b",
   "metadata": {},
   "outputs": [],
   "source": [
    "def get_convType(name):\n",
    "    if name ==\"gcnconv\":\n",
    "        return \"GCNConv\"\n",
    "    elif name ==\"armaconv\":\n",
    "        return \"ARMAConv\"\n",
    "    elif name ==\"eccconv\":\n",
    "        return \"ECCConv\"\n",
    "    elif name ==\"gatconv\":\n",
    "        return \"GATConv\"\n",
    "    elif name ==\"gcsconv\":\n",
    "        return \"GCSConv\"\n",
    "    \n",
    "def get_Loss(name):\n",
    "    if name ==\"joints\":\n",
    "        return \"joints\"\n",
    "    elif name ==\"parts\":\n",
    "        return \"parts\"\n",
    "    elif name ==\"fitness\":\n",
    "        return \"fitness\"\n",
    "    elif name ==\"dissim\":\n",
    "        return \"dissim\"\n",
    "    elif name ==\"None\":\n",
    "        return \"No\""
   ]
  },
  {
   "cell_type": "code",
   "execution_count": 10,
   "id": "ef1452a6-5901-42fa-9eb8-a9611448fecf",
   "metadata": {},
   "outputs": [],
   "source": [
    "def load_losses(path):\n",
    "    losses_all_test = []\n",
    "    losses_all_train = []\n",
    "    try:\n",
    "        with open(\"{0}/losses_test.npy\".format(path), \"rb\") as infile: \n",
    "            losses_all_test = np.load(infile).tolist()\n",
    "        with open(\"{0}/losses_train.npy\".format(path), \"rb\") as infile: \n",
    "            losses_all_train = np.load(infile).tolist()\n",
    "#         print(\"Losses loaded successfully\")\n",
    "    except Exception as e:\n",
    "        print(\"Error while loading Losses \", e)\n",
    "    return losses_all_train, losses_all_test"
   ]
  },
  {
   "cell_type": "code",
   "execution_count": 11,
   "id": "567bf9d8-93c3-451f-8be4-fc3f5b37cd44",
   "metadata": {
    "tags": []
   },
   "outputs": [],
   "source": [
    "columns = [\"path\",\"name\",\"counter\",\"loss_type\",\"ae_type\",\"convtype\",\"latentdim\",\"nhidden\",\"convenc\",\"denseenc\",\"densedeca\",\"convdecx\",\"densedecx\",\"path_model\",\"losses_all_train\", \"losses_all_test\",\"loss_train\",\"loss_test\"]\n",
    "all_models= pd.DataFrame(columns=columns )\n",
    "batchsize = 256\n",
    "learningrate = 0.01\n",
    "numfeatures = 3\n",
    "adjsize = 15\n",
    "counter = 0\n",
    "for path, subdirs, files in os.walk(path_configs):\n",
    "#     print(files)\n",
    "    for file_name in files:\n",
    "        if \"vTrue\" in file_name:\n",
    "            ae_type = \"VGAE\"\n",
    "        else:\n",
    "            ae_type = \"GAE\"\n",
    "        splitted = file_name.split(\"_\")\n",
    "        \n",
    "        convtype = get_convType(splitted[1])\n",
    "        latentdim = splitted[2]\n",
    "        nhidden = splitted[3]\n",
    "        convenc = splitted[4]\n",
    "        denseenc = splitted[5]\n",
    "        densedeca = splitted[6]\n",
    "        convdecx = splitted[7]\n",
    "        densedecx = splitted[8]\n",
    "        loss_type = get_Loss(splitted[9])\n",
    "        \n",
    "\n",
    "        for trainid in range(1,11,1):\n",
    "            path_base = (\n",
    "                loss_type+\n",
    "                \"/\"+ae_type +\n",
    "                \"/numfeatures\"+str(numfeatures) +\n",
    "                \"/adjsize\"+str(adjsize) + \n",
    "                \"/batchsize\"+str(batchsize) +\n",
    "                \"/latentdim\"+str(latentdim)+\n",
    "                \"/nhidden\"+str(nhidden)+\n",
    "                \"/learningrate\"+str(learningrate)+\n",
    "                \"/convtype\"+str(convtype)+\n",
    "                \"/model_enc_\"+str(convenc)+\"_\"+str(denseenc)+\n",
    "                 \"_deca\"+str(densedeca)+\n",
    "                 \"_decx\"+str(convdecx)+\"_\"+str(densedecx)+\n",
    "                 \"_train_id_\"+str(trainid)\n",
    "                )\n",
    "            path_model = str(path_models)+path_base\n",
    "            \n",
    "            losses_all_train, losses_all_test = load_losses(path_model)\n",
    "            loss_train = losses_all_train[-1][1]\n",
    "            loss_test = losses_all_test[-1][1]\n",
    "            name = file_name.split(\"_\")\n",
    "            f = operator.itemgetter(4,5,6,7)\n",
    "            sublist = list(f(name))\n",
    "#             print(sublist)\n",
    "            new_name = \"\"\n",
    "            for e in sublist:\n",
    "                new_name = new_name+e+\"_\" \n",
    "            name =file_name+str(trainid)\n",
    "            data_model = [[path_base,name,counter,loss_type,ae_type,convtype,latentdim,nhidden,convenc,denseenc,densedeca,convdecx,densedecx,path_model,losses_all_train, losses_all_test,loss_train,loss_test]]\n",
    "            data_model = pd.DataFrame(data_model,columns=columns) \n",
    "            all_models = all_models.append(data_model, ignore_index=True)\n",
    "        counter+=1\n"
   ]
  },
  {
   "cell_type": "code",
   "execution_count": 12,
   "id": "c0d4c2a8-9494-4e09-9ea4-c2d4e2c51834",
   "metadata": {},
   "outputs": [
    {
     "data": {
      "text/plain": [
       "(300, 18)"
      ]
     },
     "execution_count": 12,
     "metadata": {},
     "output_type": "execute_result"
    }
   ],
   "source": [
    "all_models.shape"
   ]
  },
  {
   "cell_type": "code",
   "execution_count": 13,
   "id": "e178f123-7e79-4551-8144-a1a8ceda592b",
   "metadata": {
    "tags": []
   },
   "outputs": [
    {
     "name": "stdout",
     "output_type": "stream",
     "text": [
      "Done\n"
     ]
    }
   ],
   "source": [
    "all_models.sort_values(by=\"loss_test\")\n",
    "print(\"Done\")"
   ]
  },
  {
   "cell_type": "code",
   "execution_count": 14,
   "id": "756509b4-ff5e-4dbe-92dd-61c683b50435",
   "metadata": {},
   "outputs": [],
   "source": [
    "def get_models_list_of_losses(all_models):\n",
    "    current_columns = columns + ['losses_train','losses_test','mean_loss_test','mean_loss_train','std_loss_test','std_loss_train',]\n",
    "    counters  = set(all_models['counter'])\n",
    "    finall_df  = pd.DataFrame(columns=current_columns )\n",
    "    for c in counters:\n",
    "        counter_models = all_models.loc[all_models['counter']==c]\n",
    "        losses_train = list(counter_models['loss_train'])\n",
    "        losses_test = list(counter_models['loss_test'])\n",
    "        row = all_models.loc[all_models['loss_test']==min(losses_test)].iloc[0]\n",
    "        row['losses_train'] = losses_train\n",
    "        row['losses_test']= losses_test\n",
    "        row['mean_loss_train'] = np.mean(losses_train)\n",
    "        row['mean_loss_test']= np.mean(losses_test)\n",
    "        row['std_loss_train'] = np.std(losses_train)\n",
    "        row['std_loss_test']= np.std(losses_test)\n",
    "        finall_df = finall_df.append(row, ignore_index=True)\n",
    "    return finall_df"
   ]
  },
  {
   "cell_type": "code",
   "execution_count": 15,
   "id": "781ffded-9f36-41d2-a99e-1c06fd0b1d1a",
   "metadata": {
    "tags": []
   },
   "outputs": [],
   "source": [
    "\n",
    "finall_df = get_models_list_of_losses(all_models)\n"
   ]
  },
  {
   "cell_type": "code",
   "execution_count": 21,
   "id": "219d02f0-b3ff-46ce-8ebc-3ed09b7dc1e8",
   "metadata": {
    "tags": []
   },
   "outputs": [
    {
     "data": {
      "text/plain": [
       "(10, 24)"
      ]
     },
     "execution_count": 21,
     "metadata": {},
     "output_type": "execute_result"
    }
   ],
   "source": [
    "finall_df.shape"
   ]
  },
  {
   "cell_type": "code",
   "execution_count": 20,
   "id": "af52ab9b-216b-486d-a134-90cc752d24b5",
   "metadata": {},
   "outputs": [],
   "source": [
    "finall_df = finall_df.loc[finall_df['latentdim'] ==\"15\"]"
   ]
  },
  {
   "cell_type": "code",
   "execution_count": 22,
   "id": "14ba7dad-d376-4222-b341-73451a93c011",
   "metadata": {},
   "outputs": [],
   "source": [
    "path_config_folder = \"/home/adam/thesis/VGAE/config_evol/\"\n",
    "ranges = [0.0333,0.1,0.333]\n",
    "paths = []\n",
    "for indeks,row in finall_df.iterrows():\n",
    "        c = row\n",
    "#         print(c['path'])\n",
    "        for r in ranges:\n",
    "#             print(c['name'])\n",
    "            f = open(path_config_folder+c['name']+\"_\"+str(r), \"w\")\n",
    "            f.write(c['path']+ \"/\")\n",
    "            f.write(\"\\n\"+str(r))\n",
    "            f.close()\n"
   ]
  },
  {
   "cell_type": "code",
   "execution_count": 15,
   "id": "f49e249f-2a8c-451e-bf4e-471e6c772cf5",
   "metadata": {},
   "outputs": [
    {
     "name": "stdout",
     "output_type": "stream",
     "text": [
      "vTrue_gcsconv_15_64_1_2_1_1_2_parts10\n",
      "vTrue_gcsconv_15_64_1_2_1_1_2_parts10\n",
      "vTrue_gcsconv_15_64_1_2_1_1_2_parts10\n",
      "vFalse_gcsconv_15_64_1_2_1_1_2_fitness8\n",
      "vFalse_gcsconv_15_64_1_2_1_1_2_fitness8\n",
      "vFalse_gcsconv_15_64_1_2_1_1_2_fitness8\n"
     ]
    }
   ],
   "source": [
    "# path_config_folder = \"/home/adam/thesis/VGAE/config_evol/\"\n",
    "# ranges = [0.0333,0.1,0.333]\n",
    "# paths = []\n",
    "# for l in set(finall_df['latentdim']):\n",
    "#     for a in set(finall_df['ae_type']):\n",
    "#         f_df = finall_df.loc[finall_df['latentdim']==l].loc[finall_df['ae_type']==a]\n",
    "#         c = f_df.loc[f_df['loss_test']==min(f_df['loss_test'])]\n",
    "#         for r in ranges:\n",
    "#             print(c.name.values[0])\n",
    "#             f = open(path_config_folder+f_df.name.values[0]+\"_\"+str(r), \"w\")\n",
    "#             f.write(c['path']+ \"/\")\n",
    "#             f.write(\"\\n\"+str(r))\n",
    "#             f.close()\n",
    "# # paths = list(finall_df['path_model'])[1:-1]"
   ]
  },
  {
   "cell_type": "code",
   "execution_count": 89,
   "id": "062dc801-6d41-4ccc-a38d-015bf17bf022",
   "metadata": {},
   "outputs": [],
   "source": [
    "paths = []\n",
    "for l in set(finall_df['latentdim']):\n",
    "    for a in set(finall_df['ae_type']):\n",
    "        f_df = finall_df.loc[finall_df['latentdim']==l].loc[finall_df['ae_type']==a]\n",
    "        c = f_df.loc[f_df['loss_test']==min(f_df['loss_test'])]\n",
    "        paths.append(c['path_model'].values[0])"
   ]
  },
  {
   "cell_type": "code",
   "execution_count": 90,
   "id": "499b34b0-caed-463f-a79d-550a29a4ab51",
   "metadata": {},
   "outputs": [
    {
     "data": {
      "text/plain": [
       "['/home/adam/thesis/VGAE/experiments/experiment_vertpos/models_vertpos/fitness/GAE/numfeatures3/adjsize15/batchsize256/latentdim10/nhidden64/learningrate0.01/convtypeGCSConv/model_enc_2_2_deca1_decx1_2_train_id_10',\n",
       " '/home/adam/thesis/VGAE/experiments/experiment_vertpos/models_vertpos/dissim/VGAE/numfeatures3/adjsize15/batchsize256/latentdim10/nhidden64/learningrate0.01/convtypeGCSConv/model_enc_2_2_deca1_decx1_2_train_id_10',\n",
       " '/home/adam/thesis/VGAE/experiments/experiment_vertpos/models_vertpos/dissim/GAE/numfeatures3/adjsize15/batchsize256/latentdim15/nhidden64/learningrate0.01/convtypeGCSConv/model_enc_2_2_deca1_decx1_2_train_id_7',\n",
       " '/home/adam/thesis/VGAE/experiments/experiment_vertpos/models_vertpos/dissim/VGAE/numfeatures3/adjsize15/batchsize256/latentdim15/nhidden64/learningrate0.01/convtypeGCSConv/model_enc_2_2_deca1_decx1_2_train_id_1',\n",
       " '/home/adam/thesis/VGAE/experiments/experiment_vertpos/models_vertpos/fitness/GAE/numfeatures3/adjsize15/batchsize256/latentdim3/nhidden64/learningrate0.01/convtypeGCSConv/model_enc_2_2_deca1_decx1_2_train_id_9',\n",
       " '/home/adam/thesis/VGAE/experiments/experiment_vertpos/models_vertpos/No/VGAE/numfeatures3/adjsize15/batchsize256/latentdim3/nhidden64/learningrate0.01/convtypeGCSConv/model_enc_2_2_deca1_decx1_2_train_id_7']"
      ]
     },
     "execution_count": 90,
     "metadata": {},
     "output_type": "execute_result"
    }
   ],
   "source": [
    "# paths = list(finall_df.loc[finall_df['latentdim']=='15']['path_model'].values)\n",
    "paths"
   ]
  },
  {
   "cell_type": "code",
   "execution_count": 91,
   "id": "64fb050c-c9de-46f7-9321-607ee278761b",
   "metadata": {},
   "outputs": [
    {
     "name": "stdout",
     "output_type": "stream",
     "text": [
      "/home/inf131778/Framsticks50rc19/\n",
      "graphs/gen_vertpos/\n",
      "models_vertpos/\n",
      "256\n",
      "15\n",
      "3\n",
      "3\n",
      "64\n",
      "2\n",
      "2\n",
      "1\n",
      "1\n",
      "2\n",
      "0.01\n",
      "100\n",
      "gcsconv\n",
      "True\n",
      "No\n",
      "7\n"
     ]
    }
   ],
   "source": [
    "cat /home/adam/thesis/VGAE/experiments/experiment_vertpos/models_vertpos/No/VGAE/numfeatures3/adjsize15/batchsize256/latentdim3/nhidden64/learningrate0.01/convtypeGCSConv/model_enc_2_2_deca1_decx1_2_train_id_7/args.txt"
   ]
  },
  {
   "cell_type": "code",
   "execution_count": 92,
   "id": "e202965e-7614-4a70-924b-8c616e8533b3",
   "metadata": {},
   "outputs": [
    {
     "data": {
      "text/plain": [
       "['/home/adam/thesis/VGAE/experiments/experiment_vertpos/models_vertpos/fitness/GAE/numfeatures3/adjsize15/batchsize256/latentdim10/nhidden64/learningrate0.01/convtypeGCSConv/model_enc_2_2_deca1_decx1_2_train_id_10',\n",
       " '/home/adam/thesis/VGAE/experiments/experiment_vertpos/models_vertpos/dissim/VGAE/numfeatures3/adjsize15/batchsize256/latentdim10/nhidden64/learningrate0.01/convtypeGCSConv/model_enc_2_2_deca1_decx1_2_train_id_10',\n",
       " '/home/adam/thesis/VGAE/experiments/experiment_vertpos/models_vertpos/dissim/GAE/numfeatures3/adjsize15/batchsize256/latentdim15/nhidden64/learningrate0.01/convtypeGCSConv/model_enc_2_2_deca1_decx1_2_train_id_7',\n",
       " '/home/adam/thesis/VGAE/experiments/experiment_vertpos/models_vertpos/dissim/VGAE/numfeatures3/adjsize15/batchsize256/latentdim15/nhidden64/learningrate0.01/convtypeGCSConv/model_enc_2_2_deca1_decx1_2_train_id_1',\n",
       " '/home/adam/thesis/VGAE/experiments/experiment_vertpos/models_vertpos/fitness/GAE/numfeatures3/adjsize15/batchsize256/latentdim3/nhidden64/learningrate0.01/convtypeGCSConv/model_enc_2_2_deca1_decx1_2_train_id_9',\n",
       " '/home/adam/thesis/VGAE/experiments/experiment_vertpos/models_vertpos/No/VGAE/numfeatures3/adjsize15/batchsize256/latentdim3/nhidden64/learningrate0.01/convtypeGCSConv/model_enc_2_2_deca1_decx1_2_train_id_7']"
      ]
     },
     "execution_count": 92,
     "metadata": {},
     "output_type": "execute_result"
    }
   ],
   "source": [
    "paths"
   ]
  },
  {
   "cell_type": "code",
   "execution_count": 93,
   "id": "a0113fca-1998-4e14-bf09-d9b472c55528",
   "metadata": {
    "tags": []
   },
   "outputs": [],
   "source": [
    "# path = finall_df['path_model'][0]+\"/args.txt\"\n",
    "# print(path)\n",
    "# !./run_locally.sh $(cat $path)\n",
    "\n",
    "# for p in paths:\n",
    "#     path = p+\"/args.txt\"\n",
    "# #     print(path)\n",
    "#     !./run_locally.sh $(cat $path)"
   ]
  },
  {
   "cell_type": "code",
   "execution_count": 94,
   "id": "f0c2fdb6-2c60-41b4-92dc-ff8fd5c5cc42",
   "metadata": {},
   "outputs": [],
   "source": [
    "# x = \"No\"\n",
    "# ![if $x=='no'];then\n",
    "#     echo $x\n",
    "# !fi"
   ]
  },
  {
   "cell_type": "code",
   "execution_count": null,
   "id": "ac1e8866-0e5e-4e04-8a68-be0086788013",
   "metadata": {},
   "outputs": [
    {
     "name": "stdout",
     "output_type": "stream",
     "text": [
      "/home/adam/thesis/VGAE/experiments/experiment_vertpos/models_vertpos/fitness/GAE/numfeatures3/adjsize15/batchsize256/latentdim10/nhidden64/learningrate0.01/convtypeGCSConv/model_enc_2_2_deca1_decx1_2_train_id_10\n",
      "1000\n",
      "1000\n",
      "1000\n",
      "1000\n",
      "1000\n",
      "1000\n",
      "1000\n",
      "1000\n",
      "1000\n",
      "1000\n",
      "1000\n",
      "1000\n"
     ]
    },
    {
     "name": "stderr",
     "output_type": "stream",
     "text": [
      "Exception ignored in: <function ExtValue.__del__ at 0x7f5fffcd55f0>\n",
      "Traceback (most recent call last):\n",
      "  File \"/home/adam/thesis/VGAE/framspy/frams.py\", line 53, in __del__\n",
      "    c_api.extFree(self.__ptr)\n",
      "  File \"/home/adam/thesis/VGAE/framspy/frams.py\", line 172, in __getattr__\n",
      "    return self.__dict__[key]\n",
      "KeyError: ('_ExtValue__ptr',)\n"
     ]
    },
    {
     "name": "stdout",
     "output_type": "stream",
     "text": [
      "1000\n",
      "1000\n",
      "1000\n",
      "1000\n",
      "1000\n",
      "1000\n",
      "1000\n",
      "1000\n",
      "1000\n",
      "1000\n",
      "/home/adam/thesis/VGAE/experiments/experiment_vertpos/models_vertpos/dissim/VGAE/numfeatures3/adjsize15/batchsize256/latentdim10/nhidden64/learningrate0.01/convtypeGCSConv/model_enc_2_2_deca1_decx1_2_train_id_10\n",
      "1000\n",
      "1000\n",
      "1000\n",
      "1000\n",
      "1000\n",
      "1000\n",
      "1000\n",
      "1000\n",
      "1000\n",
      "1000\n",
      "1000\n",
      "1000\n",
      "1000\n",
      "1000\n",
      "1000\n",
      "1000\n",
      "1000\n",
      "1000\n",
      "1000\n",
      "1000\n",
      "1000\n",
      "1000\n",
      "/home/adam/thesis/VGAE/experiments/experiment_vertpos/models_vertpos/dissim/GAE/numfeatures3/adjsize15/batchsize256/latentdim15/nhidden64/learningrate0.01/convtypeGCSConv/model_enc_2_2_deca1_decx1_2_train_id_7\n",
      "1000\n",
      "1000\n",
      "1000\n",
      "1000\n",
      "1000\n",
      "1000\n",
      "1000\n",
      "1000\n",
      "1000\n",
      "1000\n",
      "1000\n",
      "1000\n",
      "1000\n",
      "1000\n",
      "1000\n",
      "1000\n",
      "1000\n",
      "1000\n",
      "1000\n",
      "1000\n",
      "1000\n",
      "1000\n",
      "/home/adam/thesis/VGAE/experiments/experiment_vertpos/models_vertpos/dissim/VGAE/numfeatures3/adjsize15/batchsize256/latentdim15/nhidden64/learningrate0.01/convtypeGCSConv/model_enc_2_2_deca1_decx1_2_train_id_1\n",
      "1000\n",
      "1000\n",
      "1000\n",
      "1000\n",
      "1000\n",
      "1000\n",
      "1000\n",
      "1000\n",
      "1000\n",
      "1000\n",
      "1000\n",
      "1000\n",
      "1000\n",
      "1000\n",
      "1000\n",
      "1000\n",
      "1000\n",
      "1000\n",
      "1000\n",
      "1000\n",
      "1000\n",
      "1000\n",
      "/home/adam/thesis/VGAE/experiments/experiment_vertpos/models_vertpos/fitness/GAE/numfeatures3/adjsize15/batchsize256/latentdim3/nhidden64/learningrate0.01/convtypeGCSConv/model_enc_2_2_deca1_decx1_2_train_id_9\n",
      "1000\n",
      "1000\n",
      "1000\n",
      "1000\n",
      "1000\n",
      "1000\n",
      "1000\n",
      "1000\n",
      "1000\n",
      "1000\n",
      "1000\n",
      "1000\n",
      "1000\n",
      "1000\n",
      "1000\n",
      "1000\n",
      "1000\n",
      "1000\n",
      "1000\n",
      "1000\n",
      "1000\n"
     ]
    }
   ],
   "source": [
    "# ranges = [[0,0.00001],[0,0.0001],[0,0.001],[0,0.01],[0,1],[0,1],[0,10],[0,100],[0,1000]]\n",
    "ranges = [0.0001,0.000333,0.001,0.00333,0.01,0.0333,0.1,0.333,1,3.333]\n",
    "np.set_printoptions(suppress=True)\n",
    "\n",
    "max_e = 1000\n",
    "\n",
    "def get_fit_for_path(path,base =False):   \n",
    "    pickle_off = open (path, \"rb\")\n",
    "    emp = pickle.load(pickle_off)\n",
    "    \n",
    "    if base:\n",
    "        frams_gen,z_all = gen_f0_from_df(emp,max_elements=max_e)\n",
    "    else:\n",
    "        frams_gen,z_all = gen_f0_from_df(emp.iloc[:,3:],max_elements=max_e)\n",
    "    gen_correct = []\n",
    "    z_correct = []\n",
    "    for i in range(len(frams_gen)):\n",
    "#         print(i)\n",
    "        gen = frams_gen[i]\n",
    "        z = z_all[i]\n",
    "        if type(z) == np.ndarray:\n",
    "            z = z.tolist()\n",
    "        else:\n",
    "            z = z.numpy().tolist()\n",
    "#         print(type(z))\n",
    "#                 print(\"check_consistency_for_gen\")\n",
    "        gen = framsmanager.check_consistency_for_gen(gen)\n",
    "        if gen is not None:\n",
    "#                     print(\"reduce_joint_length_for_gen\")\n",
    "            gen = framsmanager.reduce_joint_length_for_gen(gen)\n",
    "        if gen is not None:\n",
    "            gen_correct.append(gen)\n",
    "            z_correct.append(z)\n",
    "            \n",
    "    print((len(gen_correct)))\n",
    "    fit_all = []\n",
    "    n_parts_all = []\n",
    "    n_joints_all = []\n",
    "    c = framsLib.evaluate(gen_correct)\n",
    "#     print(c)\n",
    "    for i in range(len(c)):\n",
    "        fit_all.append(c[i]['evaluations']['']['vertpos'])\n",
    "        n_parts_all.append(c[i]['evaluations']['']['numparts'])\n",
    "        n_joints_all.append(c[i]['evaluations']['']['numjoints'])        \n",
    "    return fit_all,n_parts_all,n_joints_all,z_correct\n",
    "\n",
    "for p in paths:# finall_df['path_model'].iloc[1:]:\n",
    "#     p= finall_df['path_model'][0]\n",
    "    print(p)\n",
    "    base = []\n",
    "    val_for_r=[]\n",
    "    for r in ranges:\n",
    "        path = p+\"/z_random_{0}_{1}.pkl\".format(-r,r)  \n",
    "#         path = p+\"/z_training_{0}_{1}.pkl\".format(-r,r)\n",
    "        if len(base)==0:\n",
    "            base = [get_fit_for_path(path,base=True)]\n",
    "            \n",
    "        val_for_r.append([get_fit_for_path(path,base=False)])\n",
    "\n",
    "    pd_val_all = pd.DataFrame(val_for_r,index=ranges)\n",
    "    pd_base = pd.DataFrame(base)\n",
    "    pd_val_all.to_csv(p+\"/pd_random_val_all.csv\")\n",
    "    pd_base.to_csv(p+\"/pd_random_base.csv\")\n",
    "    \n",
    "    base = []\n",
    "    val_for_r=[]\n",
    "    for r in ranges:\n",
    "#         path = p+\"/z_random_{0}_{1}.pkl\".format(-r,r)  \n",
    "        path = p+\"/z_training_{0}_{1}.pkl\".format(-r,r)\n",
    "        if len(base)==0:\n",
    "            base = [get_fit_for_path(path,base=True)]\n",
    "            \n",
    "        val_for_r.append([get_fit_for_path(path,base=False)])\n",
    "\n",
    "    pd_val_all = pd.DataFrame(val_for_r,index=ranges)\n",
    "    pd_base = pd.DataFrame(base)\n",
    "    pd_val_all.to_csv(p+\"/pd_val_all.csv\")\n",
    "    pd_base.to_csv(p+\"/pd_base.csv\")\n",
    "#     break"
   ]
  },
  {
   "cell_type": "code",
   "execution_count": null,
   "id": "cf58d79c-83d2-47a0-9720-5f08a00a94e8",
   "metadata": {},
   "outputs": [],
   "source": []
  },
  {
   "cell_type": "code",
   "execution_count": null,
   "id": "952ef2c8-1d7c-4cae-96f5-8da41be5ef22",
   "metadata": {},
   "outputs": [],
   "source": []
  },
  {
   "cell_type": "code",
   "execution_count": null,
   "id": "22081bae-68dc-4b9c-b230-d49838be8ea3",
   "metadata": {},
   "outputs": [],
   "source": []
  }
 ],
 "metadata": {
  "kernelspec": {
   "display_name": "Python 3",
   "language": "python",
   "name": "python3"
  },
  "language_info": {
   "codemirror_mode": {
    "name": "ipython",
    "version": 3
   },
   "file_extension": ".py",
   "mimetype": "text/x-python",
   "name": "python",
   "nbconvert_exporter": "python",
   "pygments_lexer": "ipython3",
   "version": "3.7.10"
  }
 },
 "nbformat": 4,
 "nbformat_minor": 5
}
