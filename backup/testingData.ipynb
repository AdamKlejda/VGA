{
 "cells": [
  {
   "cell_type": "code",
   "execution_count": 1,
   "id": "b80a62ad-7c08-4ef6-837c-cc05ec920d33",
   "metadata": {},
   "outputs": [
    {
     "ename": "ModuleNotFoundError",
     "evalue": "No module named 'utils'",
     "output_type": "error",
     "traceback": [
      "\u001b[0;31m---------------------------------------------------------------------------\u001b[0m",
      "\u001b[0;31mModuleNotFoundError\u001b[0m                       Traceback (most recent call last)",
      "\u001b[0;32m<ipython-input-1-6e3e443607ee>\u001b[0m in \u001b[0;36m<module>\u001b[0;34m\u001b[0m\n\u001b[1;32m      6\u001b[0m \u001b[0;34m\u001b[0m\u001b[0m\n\u001b[1;32m      7\u001b[0m \u001b[0;32mfrom\u001b[0m \u001b[0mtensorflow\u001b[0m\u001b[0;34m.\u001b[0m\u001b[0mpython\u001b[0m\u001b[0;34m.\u001b[0m\u001b[0mops\u001b[0m\u001b[0;34m.\u001b[0m\u001b[0mgen_control_flow_ops\u001b[0m \u001b[0;32mimport\u001b[0m \u001b[0mno_op\u001b[0m\u001b[0;34m\u001b[0m\u001b[0;34m\u001b[0m\u001b[0m\n\u001b[0;32m----> 8\u001b[0;31m \u001b[0;32mfrom\u001b[0m \u001b[0mutils\u001b[0m \u001b[0;32mimport\u001b[0m \u001b[0mgen_f0_from_tensors\u001b[0m\u001b[0;34m,\u001b[0m\u001b[0mFramsManager\u001b[0m\u001b[0;34m\u001b[0m\u001b[0;34m\u001b[0m\u001b[0m\n\u001b[0m\u001b[1;32m      9\u001b[0m \u001b[0;32mfrom\u001b[0m \u001b[0mframspy\u001b[0m\u001b[0;34m.\u001b[0m\u001b[0mFramsticksLib\u001b[0m \u001b[0;32mimport\u001b[0m \u001b[0;34m*\u001b[0m\u001b[0;34m\u001b[0m\u001b[0;34m\u001b[0m\u001b[0m\n\u001b[1;32m     10\u001b[0m \u001b[0;32mfrom\u001b[0m \u001b[0mscipy\u001b[0m\u001b[0;34m.\u001b[0m\u001b[0mspatial\u001b[0m \u001b[0;32mimport\u001b[0m \u001b[0mdistance\u001b[0m\u001b[0;34m\u001b[0m\u001b[0;34m\u001b[0m\u001b[0m\n",
      "\u001b[0;31mModuleNotFoundError\u001b[0m: No module named 'utils'"
     ]
    }
   ],
   "source": [
    "from re import A, S\n",
    "import tensorflow as tf\n",
    "\n",
    "import math\n",
    "import pandas as pd\n",
    "\n",
    "from tensorflow.python.ops.gen_control_flow_ops import no_op\n",
    "from GAE.utils import gen_f0_from_tensors,FramsManager\n",
    "from FramsticksLib import *\n",
    "from scipy.spatial import distance\n",
    "from scipy.stats import spearmanr\n",
    "from enum import Enum\n",
    "import spektral.data as data\n",
    "from GAE.LossManager import LossManager\n",
    "from GAE.GraphDataset import GraphDataset\n",
    "import matplotlib.pyplot as plt\n",
    "\n",
    "class LossTypes(Enum):\n",
    "    joints = \"joints\"\n",
    "    parts = \"parts\"\n",
    "    fitness = \"fitness\"\n",
    "    dissim = \"dissim\"\n",
    "    No = \"None\"\n",
    "    def __str__(self):\n",
    "        return self.name\n"
   ]
  },
  {
   "cell_type": "code",
   "execution_count": null,
   "id": "20026664-96ae-4edc-a182-4d3cb52c5f67",
   "metadata": {},
   "outputs": [],
   "source": [
    "pathframs = \"/home/adam/Framsticks/Framsticks50rc19\"\n",
    "path_sim =\"/home/adam/thesis/VGAE/framspy/eval-allcriteria.sim\"\n",
    "pathdata =\"graphs/gen/\"\n"
   ]
  },
  {
   "cell_type": "code",
   "execution_count": 12,
   "id": "773049b6-339c-4432-9198-f2e942288889",
   "metadata": {},
   "outputs": [
    {
     "name": "stdout",
     "output_type": "stream",
     "text": [
      "Using Framsticks version: 5.0rc19.1\n",
      "Home (writable) dir     : /home/adam/Framsticks/Framsticks50rc19/data\n",
      "Resources dir           : /home/adam/Framsticks/Framsticks50rc19/data\n",
      "\n",
      "[Errno 2] No such file or directory: 'graphs/gen/142-checkpoint.gen'\n",
      "pass\n",
      "[Errno 2] No such file or directory: 'graphs/gen/57-checkpoint.gen'\n",
      "pass\n",
      "[Errno 2] No such file or directory: 'graphs/gen/0-checkpoint.gen'\n",
      "pass\n",
      "[Errno 2] No such file or directory: 'graphs/gen/145-checkpoint.gen'\n",
      "pass\n",
      "[Errno 2] No such file or directory: 'graphs/gen/250-checkpoint.gen'\n",
      "pass\n",
      "[Errno 2] No such file or directory: 'graphs/gen/195-checkpoint.gen'\n",
      "pass\n"
     ]
    }
   ],
   "source": [
    "train, test = GraphDataset(pathframs, pathdata,size_of_adj=15,train_size=0.8).read()\n"
   ]
  },
  {
   "cell_type": "code",
   "execution_count": 16,
   "id": "182bdf02-dae1-4bac-89a5-e21e726af081",
   "metadata": {},
   "outputs": [],
   "source": [
    "# vertpos, number of parts, number of joints, "
   ]
  },
  {
   "cell_type": "code",
   "execution_count": 14,
   "id": "e550f7c1-bc48-4052-95fd-736934beac49",
   "metadata": {},
   "outputs": [
    {
     "data": {
      "text/plain": [
       "21695"
      ]
     },
     "execution_count": 14,
     "metadata": {},
     "output_type": "execute_result"
    }
   ],
   "source": [
    "len(train)"
   ]
  },
  {
   "cell_type": "code",
   "execution_count": 44,
   "id": "19e521c4-8237-4d51-930c-86a530954706",
   "metadata": {},
   "outputs": [
    {
     "data": {
      "text/plain": [
       "GraphData(n_graphs=21695)"
      ]
     },
     "execution_count": 44,
     "metadata": {},
     "output_type": "execute_result"
    }
   ],
   "source": [
    "train"
   ]
  },
  {
   "cell_type": "code",
   "execution_count": 15,
   "id": "3221bfe6-3c62-4388-be51-6ef55280a5f3",
   "metadata": {},
   "outputs": [
    {
     "data": {
      "text/plain": [
       "5424"
      ]
     },
     "execution_count": 15,
     "metadata": {},
     "output_type": "execute_result"
    }
   ],
   "source": [
    "len(test)"
   ]
  },
  {
   "cell_type": "markdown",
   "id": "01c98a5e-092f-4abf-8d87-c5c72dbe6126",
   "metadata": {},
   "source": [
    "lossManager = LossManager(pathframs,path_sim,\"vertpos\")"
   ]
  },
  {
   "cell_type": "code",
   "execution_count": 39,
   "id": "004d453b-f2ac-4158-9226-271418476772",
   "metadata": {},
   "outputs": [
    {
     "name": "stdout",
     "output_type": "stream",
     "text": [
      "Using Framsticks version: 5.0rc19.1\n",
      "Home (writable) dir     : /home/adam/Framsticks/Framsticks50rc19/data\n",
      "Resources dir           : /home/adam/Framsticks/Framsticks50rc19/data\n",
      "\n",
      "Using Framsticks version: 5.0rc19.1\n",
      "Home (writable) dir     : /home/adam/Framsticks/Framsticks50rc19/data\n",
      "Resources dir           : /home/adam/Framsticks/Framsticks50rc19/data\n",
      "\n",
      "Available objects: ['CheckpointEvent', 'Collision', 'CrCollision', 'Creature', 'CreatureSettings', 'CreatureSignals', 'CreatureSnapshot', 'Dictionary', 'ExpProperties', 'ExpState', 'ExtValue', 'File', 'FunctionReference', 'GenMan', 'GenManStats', 'GenePool', 'GenePools', 'Geno', 'Genotype', 'Interface', 'Joint', 'Loader', 'Math', 'MechJoint', 'MechPart', 'MessageCatcher', 'Model', 'ModelGeometry', 'ModelSymmetry', 'Neuro', 'NeuroClass', 'NeuroClassLibrary', 'NeuroDef', 'NeuroSignals', 'NeuronsSimEnabled', 'ODE', 'Orient', 'Part', 'Population', 'Populations', 'Ref', 'Signal', 'SignalView', 'SimilMeasure', 'SimilMeasureDistribution', 'SimilMeasureGreedy', 'SimilMeasureHungarian', 'Simulator', 'SlaveSimulators', 'StopEvent', 'String', 'UserScripts', 'Vector', 'WireframeAppearance', 'World', 'WorldMap', 'WorldSignals', 'XYZ', '__builtins__', '__cached__', '__doc__', '__file__', '__loader__', '__name__', '__package__', '__spec__', 'c_api', 'ctypes', 'home_dir', 'init', 'os', 're', 'res_dir', 'sim_params', 'stats', 'sys']\n",
      "\n",
      "Performing a basic test 1/2... OK.\n",
      "Performing a basic test 2/2... OK.\n",
      "Using settings: ['/home/adam/thesis/VGAE/framspy/eval-allcriteria.sim']\n"
     ]
    }
   ],
   "source": [
    "lossManager = LossManager(pathframs,path_sim,\"vertpos\")"
   ]
  },
  {
   "cell_type": "code",
   "execution_count": 63,
   "id": "d9faf864-30b6-49ca-8852-ad9be4eaaf86",
   "metadata": {},
   "outputs": [
    {
     "ename": "KeyboardInterrupt",
     "evalue": "",
     "output_type": "error",
     "traceback": [
      "\u001b[0;31m---------------------------------------------------------------------------\u001b[0m",
      "\u001b[0;31mKeyboardInterrupt\u001b[0m                         Traceback (most recent call last)",
      "\u001b[0;32m<ipython-input-63-afb821c77947>\u001b[0m in \u001b[0;36m<module>\u001b[0;34m\u001b[0m\n\u001b[1;32m     21\u001b[0m     \u001b[0mx\u001b[0m\u001b[0;34m,\u001b[0m\u001b[0ma\u001b[0m\u001b[0;34m=\u001b[0m \u001b[0md\u001b[0m\u001b[0;34m\u001b[0m\u001b[0;34m\u001b[0m\u001b[0m\n\u001b[1;32m     22\u001b[0m     \u001b[0mgen_list\u001b[0m \u001b[0;34m=\u001b[0m \u001b[0mgen_f0_from_tensors\u001b[0m\u001b[0;34m(\u001b[0m\u001b[0mx\u001b[0m\u001b[0;34m,\u001b[0m\u001b[0ma\u001b[0m\u001b[0;34m)\u001b[0m\u001b[0;34m\u001b[0m\u001b[0;34m\u001b[0m\u001b[0m\n\u001b[0;32m---> 23\u001b[0;31m     \u001b[0mev\u001b[0m\u001b[0;34m=\u001b[0m \u001b[0mlossManager\u001b[0m\u001b[0;34m.\u001b[0m\u001b[0mframsLib\u001b[0m\u001b[0;34m.\u001b[0m\u001b[0mevaluate\u001b[0m\u001b[0;34m(\u001b[0m\u001b[0mgen_list\u001b[0m\u001b[0;34m)\u001b[0m\u001b[0;34m\u001b[0m\u001b[0;34m\u001b[0m\u001b[0m\n\u001b[0m\u001b[1;32m     24\u001b[0m     \u001b[0mtemp_list\u001b[0m \u001b[0;34m=\u001b[0m \u001b[0;34m[\u001b[0m\u001b[0;34m]\u001b[0m\u001b[0;34m\u001b[0m\u001b[0;34m\u001b[0m\u001b[0m\n\u001b[1;32m     25\u001b[0m     \u001b[0;32mfor\u001b[0m \u001b[0me\u001b[0m \u001b[0;32min\u001b[0m \u001b[0mev\u001b[0m\u001b[0;34m:\u001b[0m\u001b[0;34m\u001b[0m\u001b[0;34m\u001b[0m\u001b[0m\n",
      "\u001b[0;32m~/thesis/VGAE/framspy/FramsticksLib.py\u001b[0m in \u001b[0;36mevaluate\u001b[0;34m(self, genotype_list)\u001b[0m\n\u001b[1;32m     93\u001b[0m                 \u001b[0;31m# while frams.Simulator.running._int():  # standard-eval.expdef sets running to 0 when the evaluation is complete\u001b[0m\u001b[0;34m\u001b[0m\u001b[0;34m\u001b[0m\u001b[0;34m\u001b[0m\u001b[0m\n\u001b[1;32m     94\u001b[0m                 \u001b[0;31m#       step()\u001b[0m\u001b[0;34m\u001b[0m\u001b[0;34m\u001b[0m\u001b[0;34m\u001b[0m\u001b[0m\n\u001b[0;32m---> 95\u001b[0;31m                 \u001b[0mframs\u001b[0m\u001b[0;34m.\u001b[0m\u001b[0mSimulator\u001b[0m\u001b[0;34m.\u001b[0m\u001b[0meval\u001b[0m\u001b[0;34m(\u001b[0m\u001b[0;34m\"while(Simulator.running) Simulator.step();\"\u001b[0m\u001b[0;34m)\u001b[0m  \u001b[0;31m# fastest\u001b[0m\u001b[0;34m\u001b[0m\u001b[0;34m\u001b[0m\u001b[0m\n\u001b[0m\u001b[1;32m     96\u001b[0m                 \u001b[0;31m# Timing for evaluating a single simple creature 100x:\u001b[0m\u001b[0;34m\u001b[0m\u001b[0;34m\u001b[0m\u001b[0;34m\u001b[0m\u001b[0m\n\u001b[1;32m     97\u001b[0m                 \u001b[0;31m# - python step without caching: 2.2s\u001b[0m\u001b[0;34m\u001b[0m\u001b[0;34m\u001b[0m\u001b[0;34m\u001b[0m\u001b[0m\n",
      "\u001b[0;32m~/thesis/VGAE/frams.py\u001b[0m in \u001b[0;36mfun\u001b[0;34m(*args)\u001b[0m\n\u001b[1;32m    190\u001b[0m                                 \u001b[0mret\u001b[0m \u001b[0;34m=\u001b[0m \u001b[0mExtValue\u001b[0m\u001b[0;34m(\u001b[0m\u001b[0;32mNone\u001b[0m\u001b[0;34m,\u001b[0m \u001b[0;32mTrue\u001b[0m\u001b[0;34m)\u001b[0m\u001b[0;34m\u001b[0m\u001b[0;34m\u001b[0m\u001b[0m\n\u001b[1;32m    191\u001b[0m                                 \u001b[0margs_array\u001b[0m \u001b[0;34m=\u001b[0m \u001b[0;34m(\u001b[0m\u001b[0mctypes\u001b[0m\u001b[0;34m.\u001b[0m\u001b[0mc_void_p\u001b[0m \u001b[0;34m*\u001b[0m \u001b[0mlen\u001b[0m\u001b[0;34m(\u001b[0m\u001b[0margs\u001b[0m\u001b[0;34m)\u001b[0m\u001b[0;34m)\u001b[0m\u001b[0;34m(\u001b[0m\u001b[0;34m*\u001b[0m\u001b[0mext_pointers\u001b[0m\u001b[0;34m)\u001b[0m\u001b[0;34m\u001b[0m\u001b[0;34m\u001b[0m\u001b[0m\n\u001b[0;32m--> 192\u001b[0;31m                                 \u001b[0mret\u001b[0m\u001b[0;34m.\u001b[0m\u001b[0m__ptr\u001b[0m \u001b[0;34m=\u001b[0m \u001b[0mc_api\u001b[0m\u001b[0;34m.\u001b[0m\u001b[0mextPropCall\u001b[0m\u001b[0;34m(\u001b[0m\u001b[0mself\u001b[0m\u001b[0;34m.\u001b[0m\u001b[0m__ptr\u001b[0m\u001b[0;34m,\u001b[0m \u001b[0mprop_i\u001b[0m\u001b[0;34m,\u001b[0m \u001b[0mlen\u001b[0m\u001b[0;34m(\u001b[0m\u001b[0margs\u001b[0m\u001b[0;34m)\u001b[0m\u001b[0;34m,\u001b[0m \u001b[0margs_array\u001b[0m\u001b[0;34m)\u001b[0m\u001b[0;34m\u001b[0m\u001b[0;34m\u001b[0m\u001b[0m\n\u001b[0m\u001b[1;32m    193\u001b[0m                                 \u001b[0;32mreturn\u001b[0m \u001b[0mret\u001b[0m\u001b[0;34m\u001b[0m\u001b[0;34m\u001b[0m\u001b[0m\n\u001b[1;32m    194\u001b[0m \u001b[0;34m\u001b[0m\u001b[0m\n",
      "\u001b[0;31mKeyboardInterrupt\u001b[0m: "
     ]
    }
   ],
   "source": [
    "end = False\n",
    "c = 500\n",
    "\n",
    "# vertpos, number of parts, number of joints\n",
    "columns = [\"vertpos\",\"n_parts\",\"n_joints\"]\n",
    "all_data= pd.DataFrame(columns=columns)\n",
    "\n",
    "itTrain = math.ceil(len(train)/c)\n",
    "itTest = math.ceil(len(test)/c)\n",
    "# print(it)\n",
    "# data_model = [[vertpos,n_parts,n_joints]]\n",
    "# data_model = pd.DataFrame(data_model,columns=columns) \n",
    "for i in range(itTrain):\n",
    "    data = train[i*c:(i+1)*c]\n",
    "    a_arr = []\n",
    "    x_arr = []\n",
    "    for g in data:\n",
    "        a_arr.append(g.a)\n",
    "        x_arr.append(g.x)\n",
    "    d =[(tf.convert_to_tensor(x_arr)), tf.convert_to_tensor(a_arr)]\n",
    "    x,a= d\n",
    "    gen_list = gen_f0_from_tensors(x,a)\n",
    "    ev= lossManager.framsLib.evaluate(gen_list)\n",
    "    temp_list = []\n",
    "    for e in ev:\n",
    "        temp_list.append([e['evaluations']['']['vertpos'],e['evaluations']['']['numparts'],e['evaluations']['']['numjoints']])\n",
    "#     print(ev[0]['evaluations'][''])\n",
    "    part_data = pd.DataFrame(temp_list,columns=columns) \n",
    "    all_data = all_data.append(part_data, ignore_index=True)\n",
    "\n",
    "for i in range(itTest):\n",
    "    data = test[i*c:(i+1)*c]\n",
    "    a_arr = []\n",
    "    x_arr = []\n",
    "    for g in data:\n",
    "        a_arr.append(g.a)\n",
    "        x_arr.append(g.x)\n",
    "    d =[(tf.convert_to_tensor(x_arr)), tf.convert_to_tensor(a_arr)]\n",
    "    x,a= d\n",
    "    gen_list = gen_f0_from_tensors(x,a)\n",
    "    ev= lossManager.framsLib.evaluate(gen_list)\n",
    "    temp_list = []\n",
    "    for e in ev:\n",
    "        temp_list.append([e['evaluations']['']['vertpos'],e['evaluations']['']['numparts'],e['evaluations']['']['numjoints']])\n",
    "#     print(ev[0]['evaluations'][''])\n",
    "    part_data = pd.DataFrame(temp_list,columns=columns) \n",
    "    all_data = all_data.append(part_data, ignore_index=True)\n",
    "#     break\n",
    "all_data"
   ]
  },
  {
   "cell_type": "code",
   "execution_count": 62,
   "id": "50a5bb34-4320-4569-b45c-e4391768264f",
   "metadata": {},
   "outputs": [],
   "source": [
    "# all_data.to_csv('all_data.csv',index=None)"
   ]
  },
  {
   "cell_type": "code",
   "execution_count": 64,
   "id": "d4af0890-9243-42c1-a2ac-029ce05cbd8b",
   "metadata": {},
   "outputs": [],
   "source": [
    "all_data = pd.read_csv(\"all_data.csv\")"
   ]
  },
  {
   "cell_type": "code",
   "execution_count": 95,
   "id": "71ce56f0-422d-47ab-aa8c-7300c0d40ed3",
   "metadata": {},
   "outputs": [
    {
     "data": {
      "text/html": [
       "<div>\n",
       "<style scoped>\n",
       "    .dataframe tbody tr th:only-of-type {\n",
       "        vertical-align: middle;\n",
       "    }\n",
       "\n",
       "    .dataframe tbody tr th {\n",
       "        vertical-align: top;\n",
       "    }\n",
       "\n",
       "    .dataframe thead th {\n",
       "        text-align: right;\n",
       "    }\n",
       "</style>\n",
       "<table border=\"1\" class=\"dataframe\">\n",
       "  <thead>\n",
       "    <tr style=\"text-align: right;\">\n",
       "      <th></th>\n",
       "      <th>vertpos</th>\n",
       "      <th>n_parts</th>\n",
       "      <th>n_joints</th>\n",
       "    </tr>\n",
       "  </thead>\n",
       "  <tbody>\n",
       "    <tr>\n",
       "      <th>count</th>\n",
       "      <td>27119.000000</td>\n",
       "      <td>27119.000000</td>\n",
       "      <td>27119.000000</td>\n",
       "    </tr>\n",
       "    <tr>\n",
       "      <th>mean</th>\n",
       "      <td>0.049078</td>\n",
       "      <td>7.181976</td>\n",
       "      <td>7.816807</td>\n",
       "    </tr>\n",
       "    <tr>\n",
       "      <th>std</th>\n",
       "      <td>0.107883</td>\n",
       "      <td>3.595919</td>\n",
       "      <td>6.201249</td>\n",
       "    </tr>\n",
       "    <tr>\n",
       "      <th>min</th>\n",
       "      <td>-0.049551</td>\n",
       "      <td>2.000000</td>\n",
       "      <td>1.000000</td>\n",
       "    </tr>\n",
       "    <tr>\n",
       "      <th>25%</th>\n",
       "      <td>-0.015000</td>\n",
       "      <td>4.000000</td>\n",
       "      <td>3.000000</td>\n",
       "    </tr>\n",
       "    <tr>\n",
       "      <th>50%</th>\n",
       "      <td>0.004503</td>\n",
       "      <td>6.000000</td>\n",
       "      <td>6.000000</td>\n",
       "    </tr>\n",
       "    <tr>\n",
       "      <th>75%</th>\n",
       "      <td>0.068423</td>\n",
       "      <td>10.000000</td>\n",
       "      <td>11.000000</td>\n",
       "    </tr>\n",
       "    <tr>\n",
       "      <th>max</th>\n",
       "      <td>1.135704</td>\n",
       "      <td>15.000000</td>\n",
       "      <td>30.000000</td>\n",
       "    </tr>\n",
       "  </tbody>\n",
       "</table>\n",
       "</div>"
      ],
      "text/plain": [
       "            vertpos       n_parts      n_joints\n",
       "count  27119.000000  27119.000000  27119.000000\n",
       "mean       0.049078      7.181976      7.816807\n",
       "std        0.107883      3.595919      6.201249\n",
       "min       -0.049551      2.000000      1.000000\n",
       "25%       -0.015000      4.000000      3.000000\n",
       "50%        0.004503      6.000000      6.000000\n",
       "75%        0.068423     10.000000     11.000000\n",
       "max        1.135704     15.000000     30.000000"
      ]
     },
     "execution_count": 95,
     "metadata": {},
     "output_type": "execute_result"
    }
   ],
   "source": [
    "all_data.describe()"
   ]
  },
  {
   "cell_type": "code",
   "execution_count": 82,
   "id": "85e00eab-4fe5-4cd0-9619-5dcaa2e71a0d",
   "metadata": {},
   "outputs": [],
   "source": [
    "n_parts = all_data['n_parts'].value_counts().to_dict()"
   ]
  },
  {
   "cell_type": "code",
   "execution_count": 98,
   "id": "6d66dce4-1dec-4573-a5ae-73384bf69fda",
   "metadata": {},
   "outputs": [
    {
     "name": "stderr",
     "output_type": "stream",
     "text": [
      "/home/adam/anaconda/envs/thesis-env/lib/python3.7/site-packages/ipykernel_launcher.py:6: UserWarning: This figure includes Axes that are not compatible with tight_layout, so results might be incorrect.\n",
      "  \n"
     ]
    },
    {
     "data": {
      "image/png": "[encoded data removed]",
      "text/plain": [
       "<Figure size 432x288 with 1 Axes>"
      ]
     },
     "metadata": {
      "needs_background": "light"
     },
     "output_type": "display_data"
    }
   ],
   "source": [
    "fig = plt.figure()\n",
    "ax = fig.add_axes([0,0,1,1])\n",
    "ax.bar(n_parts.keys(),n_parts.values())\n",
    "ax.set_ylabel('Number of examples')\n",
    "ax.set_xlabel('Number of parts')\n",
    "plt.tight_layout()\n",
    "plt.savefig(\"npartsData.pdf\", bbox_inches = \"tight\")\n",
    "plt.show()\n"
   ]
  },
  {
   "cell_type": "code",
   "execution_count": 99,
   "id": "88bd4277-44a5-463e-a9c8-149e9f13ff87",
   "metadata": {},
   "outputs": [],
   "source": [
    "n_joints  = all_data['n_joints'].value_counts().to_dict()"
   ]
  },
  {
   "cell_type": "code",
   "execution_count": 100,
   "id": "a1041bef-2a78-4359-9135-2f01f46d9020",
   "metadata": {},
   "outputs": [
    {
     "name": "stderr",
     "output_type": "stream",
     "text": [
      "/home/adam/anaconda/envs/thesis-env/lib/python3.7/site-packages/ipykernel_launcher.py:6: UserWarning: This figure includes Axes that are not compatible with tight_layout, so results might be incorrect.\n",
      "  \n"
     ]
    },
    {
     "data": {
      "image/png": "[encoded data removed]",
      "text/plain": [
       "<Figure size 432x288 with 1 Axes>"
      ]
     },
     "metadata": {
      "needs_background": "light"
     },
     "output_type": "display_data"
    }
   ],
   "source": [
    "fig = plt.figure()\n",
    "ax = fig.add_axes([0,0,1,1])\n",
    "ax.bar(n_joints.keys(),n_joints.values())\n",
    "ax.set_ylabel('Number of examples')\n",
    "ax.set_xlabel('Number of joints')\n",
    "plt.tight_layout()\n",
    "plt.savefig(\"njointsData.pdf\", bbox_inches = \"tight\")\n",
    "plt.show()\n"
   ]
  },
  {
   "cell_type": "code",
   "execution_count": 56,
   "id": "171d39bc-b462-4d6d-8b13-89935741e492",
   "metadata": {
    "tags": []
   },
   "outputs": [],
   "source": [
    "# end = False\n",
    "# c = 0\n",
    "# while not end:\n",
    "#     x,a = next(loader_train)\n",
    "#     d =[(tf.convert_to_tensor(x)), tf.convert_to_tensor(a)]\n",
    "#     x,a= d\n",
    "#     gen_list = gen_f0_from_tensors(x,a)\n",
    "#     ev= lossManager.framsLib.evaluate(gen_list)\n",
    "#     l = len(ev)\n",
    "#     for j in range(l):\n",
    "#         try:\n",
    "#             fit =  ev[j]['evaluations']['']['vertpos']\n",
    "#         except:\n",
    "#             print(ev[j])\n",
    "#             print(gen_list[j])\n",
    "# #     if \"False\" in ev:\n",
    "# #         ind = ev.index(\"False\")\n",
    "# #         print(gen_list[ind])\n",
    "# #         end = True\n",
    "#     c +=1\n",
    "#     if c >1000:\n",
    "#         end = True"
   ]
  },
  {
   "cell_type": "code",
   "execution_count": 57,
   "id": "8ad49ce4-c7d2-4a66-a283-62c30ecaa4b5",
   "metadata": {},
   "outputs": [],
   "source": [
    "# end = False\n",
    "# c = 0\n",
    "# while not end:\n",
    "#     x,a = next(loader_test)\n",
    "#     d =[(tf.convert_to_tensor(x)), tf.convert_to_tensor(a)]\n",
    "#     x,a= d\n",
    "#     gen_list = gen_f0_from_tensors(x,a)\n",
    "#     ev= lossManager.framsLib.evaluate(gen_list)\n",
    "#     l = len(ev)\n",
    "#     for j in range(l):\n",
    "#         try:\n",
    "#             fit =  ev[j]['evaluations']['']['vertpos']\n",
    "#         except:\n",
    "#             print(ev[j])\n",
    "#             print(gen_list[j])\n",
    "# #     if \"False\" in ev:\n",
    "# #         ind = ev.index(\"False\")\n",
    "# #         print(gen_list[ind])\n",
    "# #         end = True\n",
    "#     c +=1\n",
    "#     if c >500:\n",
    "#         end = True"
   ]
  },
  {
   "cell_type": "code",
   "execution_count": 10,
   "id": "01229d3a-a7c0-48a2-bb05-d4dc5fe8b1e4",
   "metadata": {},
   "outputs": [
    {
     "name": "stdout",
     "output_type": "stream",
     "text": [
      "isValid: [True]\n",
      "evaluate [{'num': 3, 'name': 'Otuzan Hih', 'evaluations': None}]\n",
      "genotype:\n",
      " //0\n",
      "p:1.31, 1.16, 1.21\n",
      "p:2.77, 0.0, 1.93\n",
      "p:2.77, 0.0, 1.93\n",
      "j:0, 1\n",
      "j:0, 2\n",
      "j:1, 2\n",
      "\n"
     ]
    }
   ],
   "source": [
    "p = \"//0\\np:1.31, 1.16, 1.21\\np:2.77, 0.0, 1.93\\np:2.77, 0.0, 1.93\\nj:0, 1\\nj:0, 2\\nj:1, 2\\n\"\n",
    "print(\"isValid:\",lossManager.framsLib.isValid([p]))\n",
    "print(\"evaluate\",lossManager.framsLib.evaluate([p]))\n",
    "\n",
    "print(\"genotype:\\n\",p)"
   ]
  },
  {
   "cell_type": "code",
   "execution_count": 75,
   "id": "e69922c2-0e7b-4ee9-980e-d603fa40cd57",
   "metadata": {},
   "outputs": [
    {
     "data": {
      "text/plain": [
       "'//0\\np:1.19, 1.3, 1.25\\np:1.27, 1.11, 1.1\\np:1.1, 1.48, 0.87\\np:1.22, 1.37, 0.6\\np:1.13, 1.3, 0.78\\np:1.24, 1.8, 0.81\\np:2.45, 0.11, 0.52\\np:2.37, 0.0, 0.84\\np:1.82, 0.26, 0.01\\np:2.09, 1.91, 0.85\\nj:0, 5\\nj:0, 9\\nj:1, 4\\nj:1, 7\\nj:1, 9\\nj:2, 5\\nj:2, 9\\nj:3, 6\\nj:3, 7\\nj:3, 8\\nj:3, 9\\nj:4, 5\\nj:4, 9\\nj:5, 9\\nj:6, 8\\nj:7, 9\\nj:8, 9\\n'"
      ]
     },
     "execution_count": 75,
     "metadata": {},
     "output_type": "execute_result"
    }
   ],
   "source": [
    "gen_list[11]"
   ]
  },
  {
   "cell_type": "code",
   "execution_count": 73,
   "id": "22923256-d391-4fb7-93a0-9cff1fb6a9e3",
   "metadata": {},
   "outputs": [
    {
     "data": {
      "text/plain": [
       "'//0\\np:1.0, 0.0, 0.0\\np:2.23, 0.42, 0.0\\np:3.23, 2.09, 0.0\\np:4.01, 3.35, 0.02\\nj:0, 1\\nj:1, 2\\nj:2, 3\\nj:3, 4\\n'"
      ]
     },
     "execution_count": 73,
     "metadata": {},
     "output_type": "execute_result"
    }
   ],
   "source": [
    "gen_list[10]"
   ]
  },
  {
   "cell_type": "code",
   "execution_count": 74,
   "id": "137d58cb-dc66-40a9-a26a-ba12941a49b1",
   "metadata": {},
   "outputs": [
    {
     "name": "stdout",
     "output_type": "stream",
     "text": [
      "//0\n",
      "p:1.0, 0.0, 0.0\n",
      "p:2.23, 0.42, 0.0\n",
      "p:3.23, 2.09, 0.0\n",
      "p:4.01, 3.35, 0.02\n",
      "j:0, 1\n",
      "j:1, 2\n",
      "j:2, 3\n",
      "j:3, 4\n",
      "\n"
     ]
    }
   ],
   "source": [
    "print(gen_list[10])"
   ]
  },
  {
   "cell_type": "code",
   "execution_count": 78,
   "id": "ad7820bc-f4e0-42c2-aa1d-9bf2f903a27d",
   "metadata": {},
   "outputs": [
    {
     "data": {
      "text/plain": [
       "[False]"
      ]
     },
     "execution_count": 78,
     "metadata": {},
     "output_type": "execute_result"
    }
   ],
   "source": [
    "lossManager.framsLib.isValid(gen_list)"
   ]
  },
  {
   "cell_type": "code",
   "execution_count": 79,
   "id": "79c92bb5-2b23-4897-901d-ca1db75a6e10",
   "metadata": {},
   "outputs": [
    {
     "name": "stdout",
     "output_type": "stream",
     "text": [
      "tf.Tensor(\n",
      "[[ 0.    0.    0.  ]\n",
      " [ 1.3   0.    0.  ]\n",
      " [ 2.45  0.    0.  ]\n",
      " [-1.   -1.   -1.  ]\n",
      " [-1.   -1.   -1.  ]\n",
      " [-1.   -1.   -1.  ]\n",
      " [-1.   -1.   -1.  ]\n",
      " [-1.   -1.   -1.  ]\n",
      " [-1.   -1.   -1.  ]\n",
      " [-1.   -1.   -1.  ]\n",
      " [-1.   -1.   -1.  ]\n",
      " [-1.   -1.   -1.  ]\n",
      " [-1.   -1.   -1.  ]\n",
      " [-1.   -1.   -1.  ]\n",
      " [-1.   -1.   -1.  ]], shape=(15, 3), dtype=float64)\n",
      "tf.Tensor(\n",
      "[[1. 1. 0. 0. 0. 0. 0. 0. 0. 0. 0. 0. 0. 0. 0.]\n",
      " [1. 1. 1. 0. 0. 0. 0. 0. 0. 0. 0. 0. 0. 0. 0.]\n",
      " [0. 1. 1. 0. 0. 0. 0. 0. 0. 0. 0. 0. 0. 0. 0.]\n",
      " [0. 0. 0. 0. 0. 0. 0. 0. 0. 0. 0. 0. 0. 0. 0.]\n",
      " [0. 0. 0. 0. 0. 0. 0. 0. 0. 0. 0. 0. 0. 0. 0.]\n",
      " [0. 0. 0. 0. 0. 0. 0. 0. 0. 0. 0. 0. 0. 0. 0.]\n",
      " [0. 0. 0. 0. 0. 0. 0. 0. 0. 0. 0. 0. 0. 0. 0.]\n",
      " [0. 0. 0. 0. 0. 0. 0. 0. 0. 0. 0. 0. 0. 0. 0.]\n",
      " [0. 0. 0. 0. 0. 0. 0. 0. 0. 0. 0. 0. 0. 0. 0.]\n",
      " [0. 0. 0. 0. 0. 0. 0. 0. 0. 0. 0. 0. 0. 0. 0.]\n",
      " [0. 0. 0. 0. 0. 0. 0. 0. 0. 0. 0. 0. 0. 0. 0.]\n",
      " [0. 0. 0. 0. 0. 0. 0. 0. 0. 0. 0. 0. 0. 0. 0.]\n",
      " [0. 0. 0. 0. 0. 0. 0. 0. 0. 0. 0. 0. 0. 0. 0.]\n",
      " [0. 0. 0. 0. 0. 0. 0. 0. 0. 0. 0. 0. 0. 0. 0.]\n",
      " [0. 0. 0. 0. 0. 0. 0. 0. 0. 0. 0. 0. 0. 0. 0.]], shape=(15, 15), dtype=float64)\n"
     ]
    }
   ],
   "source": [
    "print(x[0])\n",
    "print(a[0])"
   ]
  },
  {
   "cell_type": "code",
   "execution_count": 76,
   "id": "0742cfb6-d730-4b91-9bee-efc05dde896c",
   "metadata": {},
   "outputs": [
    {
     "data": {
      "text/plain": [
       "'//0\\np:1.3, 0.0, 0.0\\np:2.45, 0.0, 0.0\\nj:0, 1\\nj:1, 2\\n'"
      ]
     },
     "execution_count": 76,
     "metadata": {},
     "output_type": "execute_result"
    }
   ],
   "source": [
    "gen_list[0]"
   ]
  },
  {
   "cell_type": "code",
   "execution_count": 77,
   "id": "db7edf38-1921-4e8e-b9f5-524baa7d4e7b",
   "metadata": {},
   "outputs": [
    {
     "name": "stdout",
     "output_type": "stream",
     "text": [
      "//0\n",
      "p:1.3, 0.0, 0.0\n",
      "p:2.45, 0.0, 0.0\n",
      "j:0, 1\n",
      "j:1, 2\n",
      "\n"
     ]
    }
   ],
   "source": [
    "print(gen_list[0])"
   ]
  },
  {
   "cell_type": "code",
   "execution_count": null,
   "id": "a877e9b5-d027-4e03-ac40-defb4e144d01",
   "metadata": {},
   "outputs": [],
   "source": [
    "gen_list[0]"
   ]
  },
  {
   "cell_type": "code",
   "execution_count": 63,
   "id": "357dace3-3d57-4d5e-bb23-81e52bec95f9",
   "metadata": {},
   "outputs": [
    {
     "name": "stdout",
     "output_type": "stream",
     "text": [
      "0\n",
      "2\n",
      "10\n",
      "31\n",
      "33\n",
      "41\n",
      "48\n",
      "90\n",
      "93\n",
      "94\n"
     ]
    }
   ],
   "source": [
    "for i in range(len(c)):\n",
    "    if c[i]['evaluations']==None:\n",
    "        print(i)"
   ]
  },
  {
   "cell_type": "code",
   "execution_count": 66,
   "id": "cf5c98dc-234d-4aca-be59-d9a86c25d76c",
   "metadata": {},
   "outputs": [
    {
     "name": "stdout",
     "output_type": "stream",
     "text": [
      "//0\n",
      "p:1.3, 0.0, 0.0\n",
      "p:2.39, 0.37, 0.0\n",
      "j:0, 1\n",
      "j:1, 2\n",
      "\n"
     ]
    }
   ],
   "source": [
    "print(gen_list[31])"
   ]
  },
  {
   "cell_type": "code",
   "execution_count": 67,
   "id": "848750a7-b9b7-4fb3-9bfe-6d6eee78e7fe",
   "metadata": {},
   "outputs": [
    {
     "name": "stdout",
     "output_type": "stream",
     "text": [
      "//0\n",
      "p:0.06, 0.25, 0.01\n",
      "p:1.07, 0.07, 0.07\n",
      "p:1.21, 0.28, 0.0\n",
      "j:0, 1\n",
      "j:0, 2\n",
      "\n"
     ]
    }
   ],
   "source": [
    "print(gen_list[32])"
   ]
  },
  {
   "cell_type": "code",
   "execution_count": null,
   "id": "6b9c319c-b50b-4555-9739-6c5f95259ec0",
   "metadata": {},
   "outputs": [],
   "source": [
    "c = self.framsLib.evaluate(gen_list)\n",
    "for g in gen_list:\n",
    "    print(g)\n",
    "fit_list = [f['evaluations'][''][self.fitness] for f in c]\n",
    "dist_list = self.get_latent_dist(latent_space)\n",
    "rho, p = spearmanr(fit_list, dist_list)"
   ]
  }
 ],
 "metadata": {
  "kernelspec": {
   "display_name": "Python 3",
   "language": "python",
   "name": "python3"
  },
  "language_info": {
   "codemirror_mode": {
    "name": "ipython",
    "version": 3
   },
   "file_extension": ".py",
   "mimetype": "text/x-python",
   "name": "python",
   "nbconvert_exporter": "python",
   "pygments_lexer": "ipython3",
   "version": "3.7.10"
  }
 },
 "nbformat": 4,
 "nbformat_minor": 5
}
